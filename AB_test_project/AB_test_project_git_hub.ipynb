{
 "cells": [
  {
   "cell_type": "markdown",
   "metadata": {},
   "source": [
    "# Описание данных\n",
    "***Данные для первой части***\n",
    "***Файл /datasets/hypothesis.csv. Скачать датасет**\n",
    "- Hypothesis — краткое описание гипотезы;\n",
    "- Reach — охват пользователей по 10-балльной шкале;\n",
    "- Impact — влияние на пользователей по 10-балльной шкале;\n",
    "- Confidence — уверенность в гипотезе по 10-балльной шкале;\n",
    "- Efforts — затраты ресурсов на проверку гипотезы по 10-балльной шкале. Чем больше значение Efforts, тем дороже проверка гипотезы.\n",
    "\n",
    "***Данные для второй части***\n",
    "**Файл /datasets/orders.csv. Скачать датасет***\n",
    "-\ttransactionId — идентификатор заказа;\n",
    "-\tvisitorId — идентификатор пользователя, совершившего заказ;\n",
    "-\tdate — дата, когда был совершён заказ;\n",
    "-\trevenue — выручка заказа;\n",
    "-\tgroup — группа A/B-теста, в которую попал заказ.\n",
    "\n",
    "***Файл /datasets/visitors.csv. Скачать датасет***\n",
    "-\tdate — дата;\n",
    "-\tgroup — группа A/B-теста;\n",
    "-\tvisitors — количество пользователей в указанную дату в указанной группе A/B-теста\n"
   ]
  },
  {
   "cell_type": "markdown",
   "metadata": {},
   "source": [
    "# Описание проекта\n",
    "\n",
    "**Вы — аналитик крупного интернет-магазина. Вместе с отделом маркетинга вы подготовили список гипотез для увеличения выручки. Приоритизируйте гипотезы, запустите A/B-тест и проанализируйте результаты.**"
   ]
  },
  {
   "cell_type": "markdown",
   "metadata": {},
   "source": [
    "# Шаг №1 Загрузка библиотек и исходных данных"
   ]
  },
  {
   "cell_type": "code",
   "execution_count": 1,
   "metadata": {},
   "outputs": [],
   "source": [
    "# импортируем необходимые бибилиотеки\n",
    "\n",
    "import numpy as np\n",
    "import pandas as pd\n",
    "\n",
    "import seaborn as sns\n",
    "from matplotlib import pyplot as plt\n",
    "from IPython.display import display\n",
    "\n",
    "import scipy.stats as stats\n",
    "import datetime as dt"
   ]
  },
  {
   "cell_type": "code",
   "execution_count": 2,
   "metadata": {},
   "outputs": [],
   "source": [
    "# загружаем необходимые данные\n",
    "try:\n",
    "        hypothesis = pd.read_csv ('hypothesis.csv') #указывается локальный путь\n",
    "except:\n",
    "        hypothesis = pd.read_csv ('E:/DA_Yandex/apruv_desizion_in_buziness/hypothesis.csv') #указывается путь на файл в общем доступе\n",
    "try:\n",
    "        orders = pd.read_csv ('orders.csv') #указывается локальный путь\n",
    "except:\n",
    "        orders = pd.read_csv ('E:/DA_Yandex/apruv_desizion_in_buziness/orders.csv') #указывается путь на файл в общем доступе\n",
    "try:\n",
    "        visitors = pd.read_csv ('visitors.csv') #указывается локальный путь\n",
    "except:\n",
    "        visitors = pd.read_csv ('E:/DA_Yandex/apruv_desizion_in_buziness/visitors.csv') #указывается путь на файл в общем доступе  \n"
   ]
  },
  {
   "cell_type": "code",
   "execution_count": 3,
   "metadata": {},
   "outputs": [],
   "source": [
    "pd.set_option('display.max_columns', None)\n",
    "pd.set_option('max_colwidth', 1)\n",
    "pd.options.display.float_format = '{:,.2f}'.format"
   ]
  },
  {
   "cell_type": "markdown",
   "metadata": {},
   "source": [
    "# Шаг №2 Проведем предообработку исходных данных"
   ]
  },
  {
   "cell_type": "code",
   "execution_count": 4,
   "metadata": {},
   "outputs": [
    {
     "name": "stdout",
     "output_type": "stream",
     "text": [
      "<class 'pandas.core.frame.DataFrame'>\n",
      "RangeIndex: 9 entries, 0 to 8\n",
      "Data columns (total 5 columns):\n",
      " #   Column      Non-Null Count  Dtype \n",
      "---  ------      --------------  ----- \n",
      " 0   Hypothesis  9 non-null      object\n",
      " 1   Reach       9 non-null      int64 \n",
      " 2   Impact      9 non-null      int64 \n",
      " 3   Confidence  9 non-null      int64 \n",
      " 4   Efforts     9 non-null      int64 \n",
      "dtypes: int64(4), object(1)\n",
      "memory usage: 488.0+ bytes\n"
     ]
    }
   ],
   "source": [
    "hypothesis.info()"
   ]
  },
  {
   "cell_type": "code",
   "execution_count": 5,
   "metadata": {},
   "outputs": [],
   "source": [
    "hypothesis=hypothesis.rename(columns={'Hypothesis':'hypothesis','Reach':'reach','Impact':'impact','Confidence':'confidence','Efforts':'efforts'})"
   ]
  },
  {
   "cell_type": "code",
   "execution_count": 6,
   "metadata": {},
   "outputs": [
    {
     "data": {
      "text/html": [
       "<div>\n",
       "<style scoped>\n",
       "    .dataframe tbody tr th:only-of-type {\n",
       "        vertical-align: middle;\n",
       "    }\n",
       "\n",
       "    .dataframe tbody tr th {\n",
       "        vertical-align: top;\n",
       "    }\n",
       "\n",
       "    .dataframe thead th {\n",
       "        text-align: right;\n",
       "    }\n",
       "</style>\n",
       "<table border=\"1\" class=\"dataframe\">\n",
       "  <thead>\n",
       "    <tr style=\"text-align: right;\">\n",
       "      <th></th>\n",
       "      <th>hypothesis</th>\n",
       "      <th>reach</th>\n",
       "      <th>impact</th>\n",
       "      <th>confidence</th>\n",
       "      <th>efforts</th>\n",
       "    </tr>\n",
       "  </thead>\n",
       "  <tbody>\n",
       "    <tr>\n",
       "      <th>0</th>\n",
       "      <td>Добавить два новых канала привлечения трафика, что позволит привлекать на 30% больше пользователей</td>\n",
       "      <td>3</td>\n",
       "      <td>10</td>\n",
       "      <td>8</td>\n",
       "      <td>6</td>\n",
       "    </tr>\n",
       "    <tr>\n",
       "      <th>1</th>\n",
       "      <td>Запустить собственную службу доставки, что сократит срок доставки заказов</td>\n",
       "      <td>2</td>\n",
       "      <td>5</td>\n",
       "      <td>4</td>\n",
       "      <td>10</td>\n",
       "    </tr>\n",
       "    <tr>\n",
       "      <th>2</th>\n",
       "      <td>Добавить блоки рекомендаций товаров на сайт интернет магазина, чтобы повысить конверсию и средний чек заказа</td>\n",
       "      <td>8</td>\n",
       "      <td>3</td>\n",
       "      <td>7</td>\n",
       "      <td>3</td>\n",
       "    </tr>\n",
       "    <tr>\n",
       "      <th>3</th>\n",
       "      <td>Изменить структура категорий, что увеличит конверсию, т.к. пользователи быстрее найдут нужный товар</td>\n",
       "      <td>8</td>\n",
       "      <td>3</td>\n",
       "      <td>3</td>\n",
       "      <td>8</td>\n",
       "    </tr>\n",
       "    <tr>\n",
       "      <th>4</th>\n",
       "      <td>Изменить цвет фона главной страницы, чтобы увеличить вовлеченность пользователей</td>\n",
       "      <td>3</td>\n",
       "      <td>1</td>\n",
       "      <td>1</td>\n",
       "      <td>1</td>\n",
       "    </tr>\n",
       "    <tr>\n",
       "      <th>5</th>\n",
       "      <td>Добавить страницу отзывов клиентов о магазине, что позволит увеличить количество заказов</td>\n",
       "      <td>3</td>\n",
       "      <td>2</td>\n",
       "      <td>2</td>\n",
       "      <td>3</td>\n",
       "    </tr>\n",
       "    <tr>\n",
       "      <th>6</th>\n",
       "      <td>Показать на главной странице баннеры с актуальными акциями и распродажами, чтобы увеличить конверсию</td>\n",
       "      <td>5</td>\n",
       "      <td>3</td>\n",
       "      <td>8</td>\n",
       "      <td>3</td>\n",
       "    </tr>\n",
       "    <tr>\n",
       "      <th>7</th>\n",
       "      <td>Добавить форму подписки на все основные страницы, чтобы собрать базу клиентов для email-рассылок</td>\n",
       "      <td>10</td>\n",
       "      <td>7</td>\n",
       "      <td>8</td>\n",
       "      <td>5</td>\n",
       "    </tr>\n",
       "    <tr>\n",
       "      <th>8</th>\n",
       "      <td>Запустить акцию, дающую скидку на товар в день рождения</td>\n",
       "      <td>1</td>\n",
       "      <td>9</td>\n",
       "      <td>9</td>\n",
       "      <td>5</td>\n",
       "    </tr>\n",
       "  </tbody>\n",
       "</table>\n",
       "</div>"
      ],
      "text/plain": [
       "                                                                                                     hypothesis  \\\n",
       "0  Добавить два новых канала привлечения трафика, что позволит привлекать на 30% больше пользователей             \n",
       "1  Запустить собственную службу доставки, что сократит срок доставки заказов                                      \n",
       "2  Добавить блоки рекомендаций товаров на сайт интернет магазина, чтобы повысить конверсию и средний чек заказа   \n",
       "3  Изменить структура категорий, что увеличит конверсию, т.к. пользователи быстрее найдут нужный товар            \n",
       "4  Изменить цвет фона главной страницы, чтобы увеличить вовлеченность пользователей                               \n",
       "5  Добавить страницу отзывов клиентов о магазине, что позволит увеличить количество заказов                       \n",
       "6  Показать на главной странице баннеры с актуальными акциями и распродажами, чтобы увеличить конверсию           \n",
       "7  Добавить форму подписки на все основные страницы, чтобы собрать базу клиентов для email-рассылок               \n",
       "8  Запустить акцию, дающую скидку на товар в день рождения                                                        \n",
       "\n",
       "   reach  impact  confidence  efforts  \n",
       "0  3      10      8           6        \n",
       "1  2      5       4           10       \n",
       "2  8      3       7           3        \n",
       "3  8      3       3           8        \n",
       "4  3      1       1           1        \n",
       "5  3      2       2           3        \n",
       "6  5      3       8           3        \n",
       "7  10     7       8           5        \n",
       "8  1      9       9           5        "
      ]
     },
     "metadata": {},
     "output_type": "display_data"
    }
   ],
   "source": [
    "display (hypothesis)"
   ]
  },
  {
   "cell_type": "markdown",
   "metadata": {},
   "source": [
    "- Данные целостные, корректные, типы правильные, дубликатов нет, название полей приведены к стандарту - таблица готова к анализу"
   ]
  },
  {
   "cell_type": "code",
   "execution_count": 7,
   "metadata": {},
   "outputs": [
    {
     "name": "stdout",
     "output_type": "stream",
     "text": [
      "<class 'pandas.core.frame.DataFrame'>\n",
      "RangeIndex: 1197 entries, 0 to 1196\n",
      "Data columns (total 5 columns):\n",
      " #   Column         Non-Null Count  Dtype \n",
      "---  ------         --------------  ----- \n",
      " 0   transactionId  1197 non-null   int64 \n",
      " 1   visitorId      1197 non-null   int64 \n",
      " 2   date           1197 non-null   object\n",
      " 3   revenue        1197 non-null   int64 \n",
      " 4   group          1197 non-null   object\n",
      "dtypes: int64(3), object(2)\n",
      "memory usage: 46.9+ KB\n"
     ]
    }
   ],
   "source": [
    "orders.info()"
   ]
  },
  {
   "cell_type": "code",
   "execution_count": 8,
   "metadata": {},
   "outputs": [],
   "source": [
    "#Поменяем тип столбца \"date\" на datetime\n",
    "\n",
    "orders[\"date\"] = orders[\"date\"].map(lambda x: dt.datetime.strptime(x, '%Y-%m-%d'))"
   ]
  },
  {
   "cell_type": "code",
   "execution_count": 9,
   "metadata": {},
   "outputs": [
    {
     "name": "stdout",
     "output_type": "stream",
     "text": [
      "<class 'pandas.core.frame.DataFrame'>\n",
      "RangeIndex: 1197 entries, 0 to 1196\n",
      "Data columns (total 5 columns):\n",
      " #   Column         Non-Null Count  Dtype         \n",
      "---  ------         --------------  -----         \n",
      " 0   transactionId  1197 non-null   int64         \n",
      " 1   visitorId      1197 non-null   int64         \n",
      " 2   date           1197 non-null   datetime64[ns]\n",
      " 3   revenue        1197 non-null   int64         \n",
      " 4   group          1197 non-null   object        \n",
      "dtypes: datetime64[ns](1), int64(3), object(1)\n",
      "memory usage: 46.9+ KB\n"
     ]
    }
   ],
   "source": [
    "orders.info()"
   ]
  },
  {
   "cell_type": "code",
   "execution_count": 10,
   "metadata": {},
   "outputs": [
    {
     "data": {
      "text/html": [
       "<div>\n",
       "<style scoped>\n",
       "    .dataframe tbody tr th:only-of-type {\n",
       "        vertical-align: middle;\n",
       "    }\n",
       "\n",
       "    .dataframe tbody tr th {\n",
       "        vertical-align: top;\n",
       "    }\n",
       "\n",
       "    .dataframe thead th {\n",
       "        text-align: right;\n",
       "    }\n",
       "</style>\n",
       "<table border=\"1\" class=\"dataframe\">\n",
       "  <thead>\n",
       "    <tr style=\"text-align: right;\">\n",
       "      <th></th>\n",
       "      <th>transactionId</th>\n",
       "      <th>visitorId</th>\n",
       "      <th>date</th>\n",
       "      <th>revenue</th>\n",
       "      <th>group</th>\n",
       "    </tr>\n",
       "  </thead>\n",
       "  <tbody>\n",
       "    <tr>\n",
       "      <th>0</th>\n",
       "      <td>3667963787</td>\n",
       "      <td>3312258926</td>\n",
       "      <td>2019-08-15</td>\n",
       "      <td>1650</td>\n",
       "      <td>B</td>\n",
       "    </tr>\n",
       "    <tr>\n",
       "      <th>1</th>\n",
       "      <td>2804400009</td>\n",
       "      <td>3642806036</td>\n",
       "      <td>2019-08-15</td>\n",
       "      <td>730</td>\n",
       "      <td>B</td>\n",
       "    </tr>\n",
       "    <tr>\n",
       "      <th>2</th>\n",
       "      <td>2961555356</td>\n",
       "      <td>4069496402</td>\n",
       "      <td>2019-08-15</td>\n",
       "      <td>400</td>\n",
       "      <td>A</td>\n",
       "    </tr>\n",
       "    <tr>\n",
       "      <th>3</th>\n",
       "      <td>3797467345</td>\n",
       "      <td>1196621759</td>\n",
       "      <td>2019-08-15</td>\n",
       "      <td>9759</td>\n",
       "      <td>B</td>\n",
       "    </tr>\n",
       "    <tr>\n",
       "      <th>4</th>\n",
       "      <td>2282983706</td>\n",
       "      <td>2322279887</td>\n",
       "      <td>2019-08-15</td>\n",
       "      <td>2308</td>\n",
       "      <td>B</td>\n",
       "    </tr>\n",
       "    <tr>\n",
       "      <th>...</th>\n",
       "      <td>...</td>\n",
       "      <td>...</td>\n",
       "      <td>...</td>\n",
       "      <td>...</td>\n",
       "      <td>...</td>\n",
       "    </tr>\n",
       "    <tr>\n",
       "      <th>1192</th>\n",
       "      <td>2662137336</td>\n",
       "      <td>3733762160</td>\n",
       "      <td>2019-08-14</td>\n",
       "      <td>6490</td>\n",
       "      <td>B</td>\n",
       "    </tr>\n",
       "    <tr>\n",
       "      <th>1193</th>\n",
       "      <td>2203539145</td>\n",
       "      <td>370388673</td>\n",
       "      <td>2019-08-14</td>\n",
       "      <td>3190</td>\n",
       "      <td>A</td>\n",
       "    </tr>\n",
       "    <tr>\n",
       "      <th>1194</th>\n",
       "      <td>1807773912</td>\n",
       "      <td>573423106</td>\n",
       "      <td>2019-08-14</td>\n",
       "      <td>10550</td>\n",
       "      <td>A</td>\n",
       "    </tr>\n",
       "    <tr>\n",
       "      <th>1195</th>\n",
       "      <td>1947021204</td>\n",
       "      <td>1614305549</td>\n",
       "      <td>2019-08-14</td>\n",
       "      <td>100</td>\n",
       "      <td>A</td>\n",
       "    </tr>\n",
       "    <tr>\n",
       "      <th>1196</th>\n",
       "      <td>3936777065</td>\n",
       "      <td>2108080724</td>\n",
       "      <td>2019-08-15</td>\n",
       "      <td>202740</td>\n",
       "      <td>B</td>\n",
       "    </tr>\n",
       "  </tbody>\n",
       "</table>\n",
       "<p>1197 rows × 5 columns</p>\n",
       "</div>"
      ],
      "text/plain": [
       "      transactionId   visitorId       date  revenue group\n",
       "0     3667963787     3312258926 2019-08-15  1650     B   \n",
       "1     2804400009     3642806036 2019-08-15  730      B   \n",
       "2     2961555356     4069496402 2019-08-15  400      A   \n",
       "3     3797467345     1196621759 2019-08-15  9759     B   \n",
       "4     2282983706     2322279887 2019-08-15  2308     B   \n",
       "...          ...            ...        ...   ...    ..   \n",
       "1192  2662137336     3733762160 2019-08-14  6490     B   \n",
       "1193  2203539145     370388673  2019-08-14  3190     A   \n",
       "1194  1807773912     573423106  2019-08-14  10550    A   \n",
       "1195  1947021204     1614305549 2019-08-14  100      A   \n",
       "1196  3936777065     2108080724 2019-08-15  202740   B   \n",
       "\n",
       "[1197 rows x 5 columns]"
      ]
     },
     "metadata": {},
     "output_type": "display_data"
    }
   ],
   "source": [
    "display (orders)"
   ]
  },
  {
   "cell_type": "code",
   "execution_count": 11,
   "metadata": {},
   "outputs": [
    {
     "name": "stderr",
     "output_type": "stream",
     "text": [
      "C:\\Users\\ASUS\\AppData\\Local\\Temp\\ipykernel_3112\\4197849394.py:1: FutureWarning: Treating datetime data as categorical rather than numeric in `.describe` is deprecated and will be removed in a future version of pandas. Specify `datetime_is_numeric=True` to silence this warning and adopt the future behavior now.\n",
      "  orders['date'].describe()\n"
     ]
    },
    {
     "data": {
      "text/plain": [
       "count     1197               \n",
       "unique    31                 \n",
       "top       2019-08-05 00:00:00\n",
       "freq      48                 \n",
       "first     2019-08-01 00:00:00\n",
       "last      2019-08-31 00:00:00\n",
       "Name: date, dtype: object"
      ]
     },
     "execution_count": 11,
     "metadata": {},
     "output_type": "execute_result"
    }
   ],
   "source": [
    "orders['date'].describe()"
   ]
  },
  {
   "cell_type": "code",
   "execution_count": 12,
   "metadata": {},
   "outputs": [
    {
     "name": "stdout",
     "output_type": "stream",
     "text": [
      "Кол-во дубликатов = 0\n"
     ]
    }
   ],
   "source": [
    "# Проверим наличие дубликатов\n",
    "\n",
    "print(\"Кол-во дубликатов =\",orders.duplicated().sum())"
   ]
  },
  {
   "cell_type": "code",
   "execution_count": 13,
   "metadata": {},
   "outputs": [
    {
     "name": "stdout",
     "output_type": "stream",
     "text": [
      "<class 'pandas.core.frame.DataFrame'>\n",
      "RangeIndex: 62 entries, 0 to 61\n",
      "Data columns (total 3 columns):\n",
      " #   Column    Non-Null Count  Dtype \n",
      "---  ------    --------------  ----- \n",
      " 0   date      62 non-null     object\n",
      " 1   group     62 non-null     object\n",
      " 2   visitors  62 non-null     int64 \n",
      "dtypes: int64(1), object(2)\n",
      "memory usage: 1.6+ KB\n"
     ]
    }
   ],
   "source": [
    "visitors.info()"
   ]
  },
  {
   "cell_type": "code",
   "execution_count": 14,
   "metadata": {},
   "outputs": [],
   "source": [
    "visitors[\"date\"] = visitors[\"date\"].map(lambda x: dt.datetime.strptime(x, '%Y-%m-%d'))"
   ]
  },
  {
   "cell_type": "code",
   "execution_count": 15,
   "metadata": {},
   "outputs": [
    {
     "name": "stderr",
     "output_type": "stream",
     "text": [
      "C:\\Users\\ASUS\\AppData\\Local\\Temp\\ipykernel_3112\\511156166.py:1: FutureWarning: Treating datetime data as categorical rather than numeric in `.describe` is deprecated and will be removed in a future version of pandas. Specify `datetime_is_numeric=True` to silence this warning and adopt the future behavior now.\n",
      "  visitors['date'].describe()\n"
     ]
    },
    {
     "data": {
      "text/plain": [
       "count     62                 \n",
       "unique    31                 \n",
       "top       2019-08-01 00:00:00\n",
       "freq      2                  \n",
       "first     2019-08-01 00:00:00\n",
       "last      2019-08-31 00:00:00\n",
       "Name: date, dtype: object"
      ]
     },
     "execution_count": 15,
     "metadata": {},
     "output_type": "execute_result"
    }
   ],
   "source": [
    "visitors['date'].describe()"
   ]
  },
  {
   "cell_type": "code",
   "execution_count": 16,
   "metadata": {},
   "outputs": [
    {
     "data": {
      "text/html": [
       "<div>\n",
       "<style scoped>\n",
       "    .dataframe tbody tr th:only-of-type {\n",
       "        vertical-align: middle;\n",
       "    }\n",
       "\n",
       "    .dataframe tbody tr th {\n",
       "        vertical-align: top;\n",
       "    }\n",
       "\n",
       "    .dataframe thead th {\n",
       "        text-align: right;\n",
       "    }\n",
       "</style>\n",
       "<table border=\"1\" class=\"dataframe\">\n",
       "  <thead>\n",
       "    <tr style=\"text-align: right;\">\n",
       "      <th></th>\n",
       "      <th>date</th>\n",
       "      <th>group</th>\n",
       "      <th>visitors</th>\n",
       "    </tr>\n",
       "  </thead>\n",
       "  <tbody>\n",
       "    <tr>\n",
       "      <th>0</th>\n",
       "      <td>2019-08-01</td>\n",
       "      <td>A</td>\n",
       "      <td>719</td>\n",
       "    </tr>\n",
       "    <tr>\n",
       "      <th>1</th>\n",
       "      <td>2019-08-02</td>\n",
       "      <td>A</td>\n",
       "      <td>619</td>\n",
       "    </tr>\n",
       "    <tr>\n",
       "      <th>2</th>\n",
       "      <td>2019-08-03</td>\n",
       "      <td>A</td>\n",
       "      <td>507</td>\n",
       "    </tr>\n",
       "    <tr>\n",
       "      <th>3</th>\n",
       "      <td>2019-08-04</td>\n",
       "      <td>A</td>\n",
       "      <td>717</td>\n",
       "    </tr>\n",
       "    <tr>\n",
       "      <th>4</th>\n",
       "      <td>2019-08-05</td>\n",
       "      <td>A</td>\n",
       "      <td>756</td>\n",
       "    </tr>\n",
       "    <tr>\n",
       "      <th>...</th>\n",
       "      <td>...</td>\n",
       "      <td>...</td>\n",
       "      <td>...</td>\n",
       "    </tr>\n",
       "    <tr>\n",
       "      <th>57</th>\n",
       "      <td>2019-08-27</td>\n",
       "      <td>B</td>\n",
       "      <td>720</td>\n",
       "    </tr>\n",
       "    <tr>\n",
       "      <th>58</th>\n",
       "      <td>2019-08-28</td>\n",
       "      <td>B</td>\n",
       "      <td>654</td>\n",
       "    </tr>\n",
       "    <tr>\n",
       "      <th>59</th>\n",
       "      <td>2019-08-29</td>\n",
       "      <td>B</td>\n",
       "      <td>531</td>\n",
       "    </tr>\n",
       "    <tr>\n",
       "      <th>60</th>\n",
       "      <td>2019-08-30</td>\n",
       "      <td>B</td>\n",
       "      <td>490</td>\n",
       "    </tr>\n",
       "    <tr>\n",
       "      <th>61</th>\n",
       "      <td>2019-08-31</td>\n",
       "      <td>B</td>\n",
       "      <td>718</td>\n",
       "    </tr>\n",
       "  </tbody>\n",
       "</table>\n",
       "<p>62 rows × 3 columns</p>\n",
       "</div>"
      ],
      "text/plain": [
       "         date group  visitors\n",
       "0  2019-08-01  A     719     \n",
       "1  2019-08-02  A     619     \n",
       "2  2019-08-03  A     507     \n",
       "3  2019-08-04  A     717     \n",
       "4  2019-08-05  A     756     \n",
       "..        ... ..     ...     \n",
       "57 2019-08-27  B     720     \n",
       "58 2019-08-28  B     654     \n",
       "59 2019-08-29  B     531     \n",
       "60 2019-08-30  B     490     \n",
       "61 2019-08-31  B     718     \n",
       "\n",
       "[62 rows x 3 columns]"
      ]
     },
     "metadata": {},
     "output_type": "display_data"
    }
   ],
   "source": [
    "display (visitors)"
   ]
  },
  {
   "cell_type": "code",
   "execution_count": 17,
   "metadata": {},
   "outputs": [
    {
     "name": "stdout",
     "output_type": "stream",
     "text": [
      "Кол-во дубликатов = 0\n"
     ]
    }
   ],
   "source": [
    "print(\"Кол-во дубликатов =\",visitors.duplicated().sum())"
   ]
  },
  {
   "cell_type": "markdown",
   "metadata": {},
   "source": [
    "- Проверим, есть ли пользователи, которые встречаются в обеих группах:"
   ]
  },
  {
   "cell_type": "code",
   "execution_count": 18,
   "metadata": {},
   "outputs": [
    {
     "data": {
      "text/plain": [
       "58"
      ]
     },
     "execution_count": 18,
     "metadata": {},
     "output_type": "execute_result"
    }
   ],
   "source": [
    "len(np.intersect1d(orders.query('group == \"A\"')['visitorId'].unique(), orders.query('group == \"B\"')['visitorId'].unique()))"
   ]
  },
  {
   "cell_type": "code",
   "execution_count": 19,
   "metadata": {},
   "outputs": [
    {
     "data": {
      "text/plain": [
       "1031"
      ]
     },
     "execution_count": 19,
     "metadata": {},
     "output_type": "execute_result"
    }
   ],
   "source": [
    "orders['visitorId'].nunique()"
   ]
  },
  {
   "cell_type": "markdown",
   "metadata": {},
   "source": [
    "- Общее количество пользователей 1031 в обе Группы попали 58 это 5,6% допустимо но мы их удалим чтобы не было проблем при тестировании"
   ]
  },
  {
   "cell_type": "code",
   "execution_count": 20,
   "metadata": {},
   "outputs": [
    {
     "data": {
      "text/plain": [
       "array([   8300375,  199603092,  232979603,  237748145,  276558944,\n",
       "        351125977,  393266494,  457167155,  471551937,  477780734,\n",
       "        818047933,  963407295, 1230306981, 1294878855, 1316129916,\n",
       "       1333886533, 1404934699, 1602967004, 1614305549, 1648269707,\n",
       "       1668030113, 1738359350, 1801183820, 1959144690, 2038680547,\n",
       "       2044997962, 2378935119, 2458001652, 2579882178, 2587333274,\n",
       "       2600415354, 2654030115, 2686716486, 2712142231, 2716752286,\n",
       "       2780786433, 2927087541, 2949041841, 2954449915, 3062433592,\n",
       "       3202540741, 3234906277, 3656415546, 3717692402, 3766097110,\n",
       "       3803269165, 3891541246, 3941795274, 3951559397, 3957174400,\n",
       "       3963646447, 3972127743, 3984495233, 4069496402, 4120364173,\n",
       "       4186807279, 4256040402, 4266935830], dtype=int64)"
      ]
     },
     "execution_count": 20,
     "metadata": {},
     "output_type": "execute_result"
    }
   ],
   "source": [
    "#посмотрим на id тех, кто попал в обе группы:\n",
    "\n",
    "list_id = np.intersect1d(orders.query('group == \"A\"')['visitorId'].unique(), \n",
    "                         orders.query('group == \"B\"')['visitorId'].unique())\n",
    "list_id"
   ]
  },
  {
   "cell_type": "code",
   "execution_count": 21,
   "metadata": {},
   "outputs": [],
   "source": [
    "#переведем массив в список:\n",
    "list_id = list_id.tolist()"
   ]
  },
  {
   "cell_type": "code",
   "execution_count": 22,
   "metadata": {},
   "outputs": [],
   "source": [
    "orders = orders[~orders.visitorId.isin(list_id)]"
   ]
  },
  {
   "cell_type": "code",
   "execution_count": 23,
   "metadata": {},
   "outputs": [
    {
     "data": {
      "text/plain": [
       "0"
      ]
     },
     "execution_count": 23,
     "metadata": {},
     "output_type": "execute_result"
    }
   ],
   "source": [
    "#снова проверим, есть ли значения, которые встречаются в обеих группах:\n",
    "len(np.intersect1d(orders.query('group == \"A\"')['visitorId'].unique(), orders.query('group == \"B\"')['visitorId'].unique()))"
   ]
  },
  {
   "cell_type": "markdown",
   "metadata": {},
   "source": [
    "- Очистили данные от значений, повторяющихся в обеих группах."
   ]
  },
  {
   "cell_type": "markdown",
   "metadata": {},
   "source": [
    "# ВЫВОД:\n",
    "\n",
    "***Проведена предобработка 3 таблиц. Таблицы полностью корректны, целостны, дубликатов нет. Диапазон дат - август 2019 г. в таблицах заказов и посетителей совпадают. В процессе предобработки был изменен тип столбца \"date\" на datetime. А также выявлены и удалены пользователи попавшие одноврменно в две группы. Всё готово к анализу.***"
   ]
  },
  {
   "cell_type": "markdown",
   "metadata": {},
   "source": [
    "# Шаг № 3. Приоритизация гипотез.\n",
    "\n",
    "***В файле hypothesis.csv 9 гипотез по увеличению выручки интернет-магазина с указанными параметрами Reach, Impact, Confidence, Effort.***\n",
    "\n",
    "***Задача***\n",
    "\n",
    "-\tПримените фреймворк ICE для приоритизации гипотез. Отсортируйте их по убыванию приоритета.\n",
    "-\tПримените фреймворк RICE для приоритизации гипотез. Отсортируйте их по убыванию приоритета.\n",
    "-\tУкажите, как изменилась приоритизация гипотез при применении RICE вместо ICE. Объясните, почему так произошло."
   ]
  },
  {
   "cell_type": "code",
   "execution_count": 24,
   "metadata": {},
   "outputs": [
    {
     "data": {
      "text/html": [
       "<div>\n",
       "<style scoped>\n",
       "    .dataframe tbody tr th:only-of-type {\n",
       "        vertical-align: middle;\n",
       "    }\n",
       "\n",
       "    .dataframe tbody tr th {\n",
       "        vertical-align: top;\n",
       "    }\n",
       "\n",
       "    .dataframe thead th {\n",
       "        text-align: right;\n",
       "    }\n",
       "</style>\n",
       "<table border=\"1\" class=\"dataframe\">\n",
       "  <thead>\n",
       "    <tr style=\"text-align: right;\">\n",
       "      <th></th>\n",
       "      <th>hypothesis</th>\n",
       "      <th>reach</th>\n",
       "      <th>impact</th>\n",
       "      <th>confidence</th>\n",
       "      <th>efforts</th>\n",
       "      <th>ICE</th>\n",
       "    </tr>\n",
       "  </thead>\n",
       "  <tbody>\n",
       "    <tr>\n",
       "      <th>8</th>\n",
       "      <td>Запустить акцию, дающую скидку на товар в день рождения</td>\n",
       "      <td>1</td>\n",
       "      <td>9</td>\n",
       "      <td>9</td>\n",
       "      <td>5</td>\n",
       "      <td>16.20</td>\n",
       "    </tr>\n",
       "    <tr>\n",
       "      <th>0</th>\n",
       "      <td>Добавить два новых канала привлечения трафика, что позволит привлекать на 30% больше пользователей</td>\n",
       "      <td>3</td>\n",
       "      <td>10</td>\n",
       "      <td>8</td>\n",
       "      <td>6</td>\n",
       "      <td>13.33</td>\n",
       "    </tr>\n",
       "    <tr>\n",
       "      <th>7</th>\n",
       "      <td>Добавить форму подписки на все основные страницы, чтобы собрать базу клиентов для email-рассылок</td>\n",
       "      <td>10</td>\n",
       "      <td>7</td>\n",
       "      <td>8</td>\n",
       "      <td>5</td>\n",
       "      <td>11.20</td>\n",
       "    </tr>\n",
       "    <tr>\n",
       "      <th>6</th>\n",
       "      <td>Показать на главной странице баннеры с актуальными акциями и распродажами, чтобы увеличить конверсию</td>\n",
       "      <td>5</td>\n",
       "      <td>3</td>\n",
       "      <td>8</td>\n",
       "      <td>3</td>\n",
       "      <td>8.00</td>\n",
       "    </tr>\n",
       "    <tr>\n",
       "      <th>2</th>\n",
       "      <td>Добавить блоки рекомендаций товаров на сайт интернет магазина, чтобы повысить конверсию и средний чек заказа</td>\n",
       "      <td>8</td>\n",
       "      <td>3</td>\n",
       "      <td>7</td>\n",
       "      <td>3</td>\n",
       "      <td>7.00</td>\n",
       "    </tr>\n",
       "    <tr>\n",
       "      <th>1</th>\n",
       "      <td>Запустить собственную службу доставки, что сократит срок доставки заказов</td>\n",
       "      <td>2</td>\n",
       "      <td>5</td>\n",
       "      <td>4</td>\n",
       "      <td>10</td>\n",
       "      <td>2.00</td>\n",
       "    </tr>\n",
       "    <tr>\n",
       "      <th>5</th>\n",
       "      <td>Добавить страницу отзывов клиентов о магазине, что позволит увеличить количество заказов</td>\n",
       "      <td>3</td>\n",
       "      <td>2</td>\n",
       "      <td>2</td>\n",
       "      <td>3</td>\n",
       "      <td>1.33</td>\n",
       "    </tr>\n",
       "    <tr>\n",
       "      <th>3</th>\n",
       "      <td>Изменить структура категорий, что увеличит конверсию, т.к. пользователи быстрее найдут нужный товар</td>\n",
       "      <td>8</td>\n",
       "      <td>3</td>\n",
       "      <td>3</td>\n",
       "      <td>8</td>\n",
       "      <td>1.12</td>\n",
       "    </tr>\n",
       "    <tr>\n",
       "      <th>4</th>\n",
       "      <td>Изменить цвет фона главной страницы, чтобы увеличить вовлеченность пользователей</td>\n",
       "      <td>3</td>\n",
       "      <td>1</td>\n",
       "      <td>1</td>\n",
       "      <td>1</td>\n",
       "      <td>1.00</td>\n",
       "    </tr>\n",
       "  </tbody>\n",
       "</table>\n",
       "</div>"
      ],
      "text/plain": [
       "                                                                                                     hypothesis  \\\n",
       "8  Запустить акцию, дающую скидку на товар в день рождения                                                        \n",
       "0  Добавить два новых канала привлечения трафика, что позволит привлекать на 30% больше пользователей             \n",
       "7  Добавить форму подписки на все основные страницы, чтобы собрать базу клиентов для email-рассылок               \n",
       "6  Показать на главной странице баннеры с актуальными акциями и распродажами, чтобы увеличить конверсию           \n",
       "2  Добавить блоки рекомендаций товаров на сайт интернет магазина, чтобы повысить конверсию и средний чек заказа   \n",
       "1  Запустить собственную службу доставки, что сократит срок доставки заказов                                      \n",
       "5  Добавить страницу отзывов клиентов о магазине, что позволит увеличить количество заказов                       \n",
       "3  Изменить структура категорий, что увеличит конверсию, т.к. пользователи быстрее найдут нужный товар            \n",
       "4  Изменить цвет фона главной страницы, чтобы увеличить вовлеченность пользователей                               \n",
       "\n",
       "   reach  impact  confidence  efforts   ICE  \n",
       "8  1      9       9           5       16.20  \n",
       "0  3      10      8           6       13.33  \n",
       "7  10     7       8           5       11.20  \n",
       "6  5      3       8           3       8.00   \n",
       "2  8      3       7           3       7.00   \n",
       "1  2      5       4           10      2.00   \n",
       "5  3      2       2           3       1.33   \n",
       "3  8      3       3           8       1.12   \n",
       "4  3      1       1           1       1.00   "
      ]
     },
     "execution_count": 24,
     "metadata": {},
     "output_type": "execute_result"
    }
   ],
   "source": [
    "#Примените фреймворк ICE для приоритизации гипотез. Отсортируйте их по убыванию приоритета\n",
    "hypothesis['ICE'] = (hypothesis['impact'] * hypothesis['confidence'])/ hypothesis['efforts']\n",
    "hypothesis.sort_values(by='ICE', ascending=False)\n"
   ]
  },
  {
   "cell_type": "code",
   "execution_count": 25,
   "metadata": {},
   "outputs": [
    {
     "data": {
      "text/html": [
       "<div>\n",
       "<style scoped>\n",
       "    .dataframe tbody tr th:only-of-type {\n",
       "        vertical-align: middle;\n",
       "    }\n",
       "\n",
       "    .dataframe tbody tr th {\n",
       "        vertical-align: top;\n",
       "    }\n",
       "\n",
       "    .dataframe thead th {\n",
       "        text-align: right;\n",
       "    }\n",
       "</style>\n",
       "<table border=\"1\" class=\"dataframe\">\n",
       "  <thead>\n",
       "    <tr style=\"text-align: right;\">\n",
       "      <th></th>\n",
       "      <th>hypothesis</th>\n",
       "      <th>reach</th>\n",
       "      <th>impact</th>\n",
       "      <th>confidence</th>\n",
       "      <th>efforts</th>\n",
       "      <th>ICE</th>\n",
       "      <th>RICE</th>\n",
       "    </tr>\n",
       "  </thead>\n",
       "  <tbody>\n",
       "    <tr>\n",
       "      <th>7</th>\n",
       "      <td>Добавить форму подписки на все основные страницы, чтобы собрать базу клиентов для email-рассылок</td>\n",
       "      <td>10</td>\n",
       "      <td>7</td>\n",
       "      <td>8</td>\n",
       "      <td>5</td>\n",
       "      <td>11.20</td>\n",
       "      <td>112.00</td>\n",
       "    </tr>\n",
       "    <tr>\n",
       "      <th>2</th>\n",
       "      <td>Добавить блоки рекомендаций товаров на сайт интернет магазина, чтобы повысить конверсию и средний чек заказа</td>\n",
       "      <td>8</td>\n",
       "      <td>3</td>\n",
       "      <td>7</td>\n",
       "      <td>3</td>\n",
       "      <td>7.00</td>\n",
       "      <td>56.00</td>\n",
       "    </tr>\n",
       "    <tr>\n",
       "      <th>0</th>\n",
       "      <td>Добавить два новых канала привлечения трафика, что позволит привлекать на 30% больше пользователей</td>\n",
       "      <td>3</td>\n",
       "      <td>10</td>\n",
       "      <td>8</td>\n",
       "      <td>6</td>\n",
       "      <td>13.33</td>\n",
       "      <td>40.00</td>\n",
       "    </tr>\n",
       "    <tr>\n",
       "      <th>6</th>\n",
       "      <td>Показать на главной странице баннеры с актуальными акциями и распродажами, чтобы увеличить конверсию</td>\n",
       "      <td>5</td>\n",
       "      <td>3</td>\n",
       "      <td>8</td>\n",
       "      <td>3</td>\n",
       "      <td>8.00</td>\n",
       "      <td>40.00</td>\n",
       "    </tr>\n",
       "    <tr>\n",
       "      <th>8</th>\n",
       "      <td>Запустить акцию, дающую скидку на товар в день рождения</td>\n",
       "      <td>1</td>\n",
       "      <td>9</td>\n",
       "      <td>9</td>\n",
       "      <td>5</td>\n",
       "      <td>16.20</td>\n",
       "      <td>16.20</td>\n",
       "    </tr>\n",
       "    <tr>\n",
       "      <th>3</th>\n",
       "      <td>Изменить структура категорий, что увеличит конверсию, т.к. пользователи быстрее найдут нужный товар</td>\n",
       "      <td>8</td>\n",
       "      <td>3</td>\n",
       "      <td>3</td>\n",
       "      <td>8</td>\n",
       "      <td>1.12</td>\n",
       "      <td>9.00</td>\n",
       "    </tr>\n",
       "    <tr>\n",
       "      <th>1</th>\n",
       "      <td>Запустить собственную службу доставки, что сократит срок доставки заказов</td>\n",
       "      <td>2</td>\n",
       "      <td>5</td>\n",
       "      <td>4</td>\n",
       "      <td>10</td>\n",
       "      <td>2.00</td>\n",
       "      <td>4.00</td>\n",
       "    </tr>\n",
       "    <tr>\n",
       "      <th>5</th>\n",
       "      <td>Добавить страницу отзывов клиентов о магазине, что позволит увеличить количество заказов</td>\n",
       "      <td>3</td>\n",
       "      <td>2</td>\n",
       "      <td>2</td>\n",
       "      <td>3</td>\n",
       "      <td>1.33</td>\n",
       "      <td>4.00</td>\n",
       "    </tr>\n",
       "    <tr>\n",
       "      <th>4</th>\n",
       "      <td>Изменить цвет фона главной страницы, чтобы увеличить вовлеченность пользователей</td>\n",
       "      <td>3</td>\n",
       "      <td>1</td>\n",
       "      <td>1</td>\n",
       "      <td>1</td>\n",
       "      <td>1.00</td>\n",
       "      <td>3.00</td>\n",
       "    </tr>\n",
       "  </tbody>\n",
       "</table>\n",
       "</div>"
      ],
      "text/plain": [
       "                                                                                                     hypothesis  \\\n",
       "7  Добавить форму подписки на все основные страницы, чтобы собрать базу клиентов для email-рассылок               \n",
       "2  Добавить блоки рекомендаций товаров на сайт интернет магазина, чтобы повысить конверсию и средний чек заказа   \n",
       "0  Добавить два новых канала привлечения трафика, что позволит привлекать на 30% больше пользователей             \n",
       "6  Показать на главной странице баннеры с актуальными акциями и распродажами, чтобы увеличить конверсию           \n",
       "8  Запустить акцию, дающую скидку на товар в день рождения                                                        \n",
       "3  Изменить структура категорий, что увеличит конверсию, т.к. пользователи быстрее найдут нужный товар            \n",
       "1  Запустить собственную службу доставки, что сократит срок доставки заказов                                      \n",
       "5  Добавить страницу отзывов клиентов о магазине, что позволит увеличить количество заказов                       \n",
       "4  Изменить цвет фона главной страницы, чтобы увеличить вовлеченность пользователей                               \n",
       "\n",
       "   reach  impact  confidence  efforts   ICE   RICE  \n",
       "7  10     7       8           5       11.20 112.00  \n",
       "2  8      3       7           3       7.00  56.00   \n",
       "0  3      10      8           6       13.33 40.00   \n",
       "6  5      3       8           3       8.00  40.00   \n",
       "8  1      9       9           5       16.20 16.20   \n",
       "3  8      3       3           8       1.12  9.00    \n",
       "1  2      5       4           10      2.00  4.00    \n",
       "5  3      2       2           3       1.33  4.00    \n",
       "4  3      1       1           1       1.00  3.00    "
      ]
     },
     "execution_count": 25,
     "metadata": {},
     "output_type": "execute_result"
    }
   ],
   "source": [
    "#Примените фреймворк RICE для приоритизации гипотез. Отсортируйте их по убыванию приоритета\n",
    "hypothesis['RICE'] = (hypothesis['impact']*hypothesis['reach'] * hypothesis['confidence'])/ hypothesis['efforts']\n",
    "hypothesis.sort_values(by='RICE', ascending=False)"
   ]
  },
  {
   "cell_type": "markdown",
   "metadata": {},
   "source": [
    "***Укажите, как изменилась приоритизация гипотез при применении RICE вместо ICE. Объясните, почему так произошло***\n",
    "\n",
    "***Результаты приоритизации ICE и RICE отличаются друг от друга.***\n",
    "\n",
    "- В таблице ICE гипотезы 8, 0, 7 занимали первые три места, то в RICE первые три места занимают гипотезы 7, 2, 0.\n",
    "- В таблицы RICE 8-ая гипотеза сместилась с 1-ой на пятую позицыю, 2 перешшла на второе место с пятого, 0 сместилась со 2-го на третье место. \n",
    "- Отличие произошло, по видимому, потому что фрмула расчета в фреймворке ICE не учитывает параметр - Reach (скольких пользователей затронет изменение, которое мы хотим внести)"
   ]
  },
  {
   "cell_type": "markdown",
   "metadata": {},
   "source": [
    "# Шаг №4. Анализ A/B-теста\n",
    "\n",
    "***Вы провели A/B-тест и получили результаты, которые описаны в файлах orders.csv и visitors.csv.***\n",
    "\n",
    "***Задача***\n",
    "\n",
    "**Проанализируйте A/B-тест:**\n",
    "\n",
    "- 2.1.\tПостройте график кумулятивной выручки по группам. Сделайте выводы и предположения.\n",
    "- 2.2.\tПостройте график кумулятивного среднего чека по группам. Сделайте выводы и предположения.\n",
    "- 2.3.\tПостройте график относительного изменения кумулятивного среднего чека группы B к группе A. Сделайте выводы и предположения.\n",
    "- 2.4.\tПостройте график кумулятивной конверсии по группам. Сделайте выводы и предположения.\n",
    "- 2.5.\tПостройте график относительного изменения кумулятивной конверсии группы B к группе A. Сделайте выводы и предположения.\n",
    "- 2.6.\tПостройте точечный график количества заказов по пользователям. Сделайте выводы и предположения.\n",
    "- 2.7.\tПосчитайте 95-й и 99-й перцентили количества заказов на пользователя. Выберите границу для определения аномальных пользователей.\n",
    "- 2.8.\tПостройте точечный график стоимостей заказов. Сделайте выводы и предположения.\n",
    "- 2.9.\tПосчитайте 95-й и 99-й перцентили стоимости заказов. Выберите границу для определения аномальных заказов.\n",
    "- 2.10.\tПосчитайте статистическую значимость различий в конверсии между группами по «сырым» данным. Сделайте выводы и предположения.\n",
    "- 2.11.\tПосчитайте статистическую значимость различий в среднем чеке заказа между группами по «сырым» данным. Сделайте выводы и предположения.\n",
    "- 2.12.\tПосчитайте статистическую значимость различий в конверсии между группами по «очищенным» данным. Сделайте выводы и предположения.\n",
    "- 2.13.\tПосчитайте статистическую значимость различий в среднем чеке заказа между группами по «очищенным» данным. Сделайте выводы и предположения.\n",
    "- 2.14.\tПримите решение по результатам теста и объясните его. Варианты решений: 1. Остановить тест, зафиксировать победу одной из групп. 2. Остановить тест, зафиксировать отсутствие различий между группами. 3. Продолжить тест.\n"
   ]
  },
  {
   "cell_type": "markdown",
   "metadata": {},
   "source": [
    "***2.1. Постройте график кумулятивной выручки по группам. Сделайте выводы и предположения***"
   ]
  },
  {
   "cell_type": "code",
   "execution_count": 26,
   "metadata": {},
   "outputs": [
    {
     "data": {
      "text/html": [
       "<div>\n",
       "<style scoped>\n",
       "    .dataframe tbody tr th:only-of-type {\n",
       "        vertical-align: middle;\n",
       "    }\n",
       "\n",
       "    .dataframe tbody tr th {\n",
       "        vertical-align: top;\n",
       "    }\n",
       "\n",
       "    .dataframe thead th {\n",
       "        text-align: right;\n",
       "    }\n",
       "</style>\n",
       "<table border=\"1\" class=\"dataframe\">\n",
       "  <thead>\n",
       "    <tr style=\"text-align: right;\">\n",
       "      <th></th>\n",
       "      <th>transactionId</th>\n",
       "      <th>visitorId</th>\n",
       "      <th>date</th>\n",
       "      <th>revenue</th>\n",
       "      <th>group</th>\n",
       "    </tr>\n",
       "  </thead>\n",
       "  <tbody>\n",
       "    <tr>\n",
       "      <th>0</th>\n",
       "      <td>3667963787</td>\n",
       "      <td>3312258926</td>\n",
       "      <td>2019-08-15</td>\n",
       "      <td>1650</td>\n",
       "      <td>B</td>\n",
       "    </tr>\n",
       "    <tr>\n",
       "      <th>1</th>\n",
       "      <td>2804400009</td>\n",
       "      <td>3642806036</td>\n",
       "      <td>2019-08-15</td>\n",
       "      <td>730</td>\n",
       "      <td>B</td>\n",
       "    </tr>\n",
       "    <tr>\n",
       "      <th>3</th>\n",
       "      <td>3797467345</td>\n",
       "      <td>1196621759</td>\n",
       "      <td>2019-08-15</td>\n",
       "      <td>9759</td>\n",
       "      <td>B</td>\n",
       "    </tr>\n",
       "    <tr>\n",
       "      <th>4</th>\n",
       "      <td>2282983706</td>\n",
       "      <td>2322279887</td>\n",
       "      <td>2019-08-15</td>\n",
       "      <td>2308</td>\n",
       "      <td>B</td>\n",
       "    </tr>\n",
       "    <tr>\n",
       "      <th>5</th>\n",
       "      <td>182168103</td>\n",
       "      <td>935554773</td>\n",
       "      <td>2019-08-15</td>\n",
       "      <td>2210</td>\n",
       "      <td>B</td>\n",
       "    </tr>\n",
       "  </tbody>\n",
       "</table>\n",
       "</div>"
      ],
      "text/plain": [
       "   transactionId   visitorId       date  revenue group\n",
       "0  3667963787     3312258926 2019-08-15  1650     B   \n",
       "1  2804400009     3642806036 2019-08-15  730      B   \n",
       "3  3797467345     1196621759 2019-08-15  9759     B   \n",
       "4  2282983706     2322279887 2019-08-15  2308     B   \n",
       "5  182168103      935554773  2019-08-15  2210     B   "
      ]
     },
     "execution_count": 26,
     "metadata": {},
     "output_type": "execute_result"
    }
   ],
   "source": [
    "orders.head(5)"
   ]
  },
  {
   "cell_type": "code",
   "execution_count": 27,
   "metadata": {},
   "outputs": [
    {
     "data": {
      "text/plain": [
       "group\n",
       "A   92,365.00 \n",
       "B   107,340.00\n",
       "Name: revenue, dtype: float64"
      ]
     },
     "execution_count": 27,
     "metadata": {},
     "output_type": "execute_result"
    }
   ],
   "source": [
    "# Рассчитаем усредненную (медианную) выручку за день в каждой группе, чтобы иметь представление сколько выручка за день\n",
    "orders.groupby(['date','group'])['revenue'].sum().groupby('group').median()"
   ]
  },
  {
   "cell_type": "markdown",
   "metadata": {},
   "source": [
    "**Сравним идентичны ли даты и группы в таблицах посетителей и заказов,чтобы без проблем производить объединение данных**"
   ]
  },
  {
   "cell_type": "code",
   "execution_count": 28,
   "metadata": {},
   "outputs": [
    {
     "data": {
      "text/html": [
       "<div>\n",
       "<style scoped>\n",
       "    .dataframe tbody tr th:only-of-type {\n",
       "        vertical-align: middle;\n",
       "    }\n",
       "\n",
       "    .dataframe tbody tr th {\n",
       "        vertical-align: top;\n",
       "    }\n",
       "\n",
       "    .dataframe thead th {\n",
       "        text-align: right;\n",
       "    }\n",
       "</style>\n",
       "<table border=\"1\" class=\"dataframe\">\n",
       "  <thead>\n",
       "    <tr style=\"text-align: right;\">\n",
       "      <th></th>\n",
       "      <th>date</th>\n",
       "      <th>group</th>\n",
       "    </tr>\n",
       "  </thead>\n",
       "  <tbody>\n",
       "    <tr>\n",
       "      <th>0</th>\n",
       "      <td>2019-08-01</td>\n",
       "      <td>A</td>\n",
       "    </tr>\n",
       "    <tr>\n",
       "      <th>1</th>\n",
       "      <td>2019-08-01</td>\n",
       "      <td>B</td>\n",
       "    </tr>\n",
       "    <tr>\n",
       "      <th>2</th>\n",
       "      <td>2019-08-02</td>\n",
       "      <td>A</td>\n",
       "    </tr>\n",
       "    <tr>\n",
       "      <th>3</th>\n",
       "      <td>2019-08-02</td>\n",
       "      <td>B</td>\n",
       "    </tr>\n",
       "    <tr>\n",
       "      <th>4</th>\n",
       "      <td>2019-08-03</td>\n",
       "      <td>A</td>\n",
       "    </tr>\n",
       "    <tr>\n",
       "      <th>...</th>\n",
       "      <td>...</td>\n",
       "      <td>...</td>\n",
       "    </tr>\n",
       "    <tr>\n",
       "      <th>57</th>\n",
       "      <td>2019-08-29</td>\n",
       "      <td>B</td>\n",
       "    </tr>\n",
       "    <tr>\n",
       "      <th>58</th>\n",
       "      <td>2019-08-30</td>\n",
       "      <td>A</td>\n",
       "    </tr>\n",
       "    <tr>\n",
       "      <th>59</th>\n",
       "      <td>2019-08-30</td>\n",
       "      <td>B</td>\n",
       "    </tr>\n",
       "    <tr>\n",
       "      <th>60</th>\n",
       "      <td>2019-08-31</td>\n",
       "      <td>A</td>\n",
       "    </tr>\n",
       "    <tr>\n",
       "      <th>61</th>\n",
       "      <td>2019-08-31</td>\n",
       "      <td>B</td>\n",
       "    </tr>\n",
       "  </tbody>\n",
       "</table>\n",
       "<p>62 rows × 2 columns</p>\n",
       "</div>"
      ],
      "text/plain": [
       "         date group\n",
       "0  2019-08-01  A   \n",
       "1  2019-08-01  B   \n",
       "2  2019-08-02  A   \n",
       "3  2019-08-02  B   \n",
       "4  2019-08-03  A   \n",
       "..        ... ..   \n",
       "57 2019-08-29  B   \n",
       "58 2019-08-30  A   \n",
       "59 2019-08-30  B   \n",
       "60 2019-08-31  A   \n",
       "61 2019-08-31  B   \n",
       "\n",
       "[62 rows x 2 columns]"
      ]
     },
     "execution_count": 28,
     "metadata": {},
     "output_type": "execute_result"
    }
   ],
   "source": [
    "orders[['date','group']].drop_duplicates().sort_values(by=['date','group']).reset_index(drop=True)"
   ]
  },
  {
   "cell_type": "code",
   "execution_count": 29,
   "metadata": {},
   "outputs": [
    {
     "data": {
      "text/html": [
       "<div>\n",
       "<style scoped>\n",
       "    .dataframe tbody tr th:only-of-type {\n",
       "        vertical-align: middle;\n",
       "    }\n",
       "\n",
       "    .dataframe tbody tr th {\n",
       "        vertical-align: top;\n",
       "    }\n",
       "\n",
       "    .dataframe thead th {\n",
       "        text-align: right;\n",
       "    }\n",
       "</style>\n",
       "<table border=\"1\" class=\"dataframe\">\n",
       "  <thead>\n",
       "    <tr style=\"text-align: right;\">\n",
       "      <th></th>\n",
       "      <th>date</th>\n",
       "      <th>group</th>\n",
       "    </tr>\n",
       "  </thead>\n",
       "  <tbody>\n",
       "    <tr>\n",
       "      <th>0</th>\n",
       "      <td>True</td>\n",
       "      <td>True</td>\n",
       "    </tr>\n",
       "    <tr>\n",
       "      <th>1</th>\n",
       "      <td>True</td>\n",
       "      <td>True</td>\n",
       "    </tr>\n",
       "    <tr>\n",
       "      <th>2</th>\n",
       "      <td>True</td>\n",
       "      <td>True</td>\n",
       "    </tr>\n",
       "    <tr>\n",
       "      <th>3</th>\n",
       "      <td>True</td>\n",
       "      <td>True</td>\n",
       "    </tr>\n",
       "    <tr>\n",
       "      <th>4</th>\n",
       "      <td>True</td>\n",
       "      <td>True</td>\n",
       "    </tr>\n",
       "    <tr>\n",
       "      <th>...</th>\n",
       "      <td>...</td>\n",
       "      <td>...</td>\n",
       "    </tr>\n",
       "    <tr>\n",
       "      <th>57</th>\n",
       "      <td>True</td>\n",
       "      <td>True</td>\n",
       "    </tr>\n",
       "    <tr>\n",
       "      <th>58</th>\n",
       "      <td>True</td>\n",
       "      <td>True</td>\n",
       "    </tr>\n",
       "    <tr>\n",
       "      <th>59</th>\n",
       "      <td>True</td>\n",
       "      <td>True</td>\n",
       "    </tr>\n",
       "    <tr>\n",
       "      <th>60</th>\n",
       "      <td>True</td>\n",
       "      <td>True</td>\n",
       "    </tr>\n",
       "    <tr>\n",
       "      <th>61</th>\n",
       "      <td>True</td>\n",
       "      <td>True</td>\n",
       "    </tr>\n",
       "  </tbody>\n",
       "</table>\n",
       "<p>62 rows × 2 columns</p>\n",
       "</div>"
      ],
      "text/plain": [
       "    date  group\n",
       "0   True  True \n",
       "1   True  True \n",
       "2   True  True \n",
       "3   True  True \n",
       "4   True  True \n",
       "..   ...   ... \n",
       "57  True  True \n",
       "58  True  True \n",
       "59  True  True \n",
       "60  True  True \n",
       "61  True  True \n",
       "\n",
       "[62 rows x 2 columns]"
      ]
     },
     "metadata": {},
     "output_type": "display_data"
    }
   ],
   "source": [
    "compare_dg = orders[['date','group']].drop_duplicates().sort_values(by=['date','group']).reset_index(drop=True) == \\\n",
    "                        visitors[['date','group']].drop_duplicates().sort_values(by=['date','group']).reset_index(drop=True)\n",
    "display (compare_dg)"
   ]
  },
  {
   "cell_type": "markdown",
   "metadata": {},
   "source": [
    "**Все пары дата-группа в таблицах посетители и заказы совпадают, можно объединять без проблем**"
   ]
  },
  {
   "cell_type": "markdown",
   "metadata": {},
   "source": [
    "***Создадим таблицу cumulativeData куммулятивных данных по обеим таблицам orders и visitors***"
   ]
  },
  {
   "cell_type": "code",
   "execution_count": 55,
   "metadata": {},
   "outputs": [
    {
     "data": {
      "text/html": [
       "<div>\n",
       "<style scoped>\n",
       "    .dataframe tbody tr th:only-of-type {\n",
       "        vertical-align: middle;\n",
       "    }\n",
       "\n",
       "    .dataframe tbody tr th {\n",
       "        vertical-align: top;\n",
       "    }\n",
       "\n",
       "    .dataframe thead th {\n",
       "        text-align: right;\n",
       "    }\n",
       "</style>\n",
       "<table border=\"1\" class=\"dataframe\">\n",
       "  <thead>\n",
       "    <tr style=\"text-align: right;\">\n",
       "      <th></th>\n",
       "      <th>date</th>\n",
       "      <th>group</th>\n",
       "      <th>orders</th>\n",
       "      <th>buyers</th>\n",
       "      <th>revenue</th>\n",
       "      <th>visitors</th>\n",
       "    </tr>\n",
       "  </thead>\n",
       "  <tbody>\n",
       "    <tr>\n",
       "      <th>0</th>\n",
       "      <td>2019-08-01</td>\n",
       "      <td>A</td>\n",
       "      <td>23</td>\n",
       "      <td>19</td>\n",
       "      <td>142779</td>\n",
       "      <td>719</td>\n",
       "    </tr>\n",
       "    <tr>\n",
       "      <th>1</th>\n",
       "      <td>2019-08-01</td>\n",
       "      <td>B</td>\n",
       "      <td>17</td>\n",
       "      <td>17</td>\n",
       "      <td>59758</td>\n",
       "      <td>713</td>\n",
       "    </tr>\n",
       "    <tr>\n",
       "      <th>2</th>\n",
       "      <td>2019-08-02</td>\n",
       "      <td>A</td>\n",
       "      <td>42</td>\n",
       "      <td>36</td>\n",
       "      <td>234381</td>\n",
       "      <td>1338</td>\n",
       "    </tr>\n",
       "    <tr>\n",
       "      <th>3</th>\n",
       "      <td>2019-08-02</td>\n",
       "      <td>B</td>\n",
       "      <td>40</td>\n",
       "      <td>39</td>\n",
       "      <td>221801</td>\n",
       "      <td>1294</td>\n",
       "    </tr>\n",
       "    <tr>\n",
       "      <th>4</th>\n",
       "      <td>2019-08-03</td>\n",
       "      <td>A</td>\n",
       "      <td>66</td>\n",
       "      <td>60</td>\n",
       "      <td>346854</td>\n",
       "      <td>1845</td>\n",
       "    </tr>\n",
       "  </tbody>\n",
       "</table>\n",
       "</div>"
      ],
      "text/plain": [
       "        date group  orders  buyers  revenue  visitors\n",
       "0 2019-08-01  A     23      19      142779   719     \n",
       "1 2019-08-01  B     17      17      59758    713     \n",
       "2 2019-08-02  A     42      36      234381   1338    \n",
       "3 2019-08-02  B     40      39      221801   1294    \n",
       "4 2019-08-03  A     66      60      346854   1845    "
      ]
     },
     "execution_count": 55,
     "metadata": {},
     "output_type": "execute_result"
    }
   ],
   "source": [
    "datesGroups = orders[['date','group']].drop_duplicates()\n",
    "\n",
    "ordersAggregated = datesGroups.apply(lambda x: orders[np.logical_and(orders['date'] <= x['date'], orders['group'] == x['group'])]. \\\n",
    "                                     agg({'date' : 'max', \n",
    "                                          'group' : 'max', \n",
    "                                          'transactionId' : pd.Series.nunique, \n",
    "                                          'visitorId' : pd.Series.nunique, \n",
    "                                          'revenue' : 'sum'}), axis=1).sort_values(by=['date','group'])\n",
    "\n",
    "visitorsAggregated = datesGroups.apply(lambda x: visitors[np.logical_and(visitors['date'] <= x['date'], visitors['group'] == x['group'])]. \\\n",
    "                                       agg({'date' : 'max', \n",
    "                                            'group' : 'max', \n",
    "                                            'visitors' : 'sum'}), axis=1).sort_values(by=['date','group'])\n",
    "\n",
    "cumulativeData = ordersAggregated.merge(visitorsAggregated, left_on=['date', 'group'], right_on=['date', 'group'])\n",
    "cumulativeData.columns = ['date', 'group', 'orders', 'buyers', 'revenue', 'visitors']\n",
    "\n",
    "cumulativeData.head(5)"
   ]
  },
  {
   "cell_type": "code",
   "execution_count": 31,
   "metadata": {},
   "outputs": [],
   "source": [
    "cumulativeRevenueA = cumulativeData[cumulativeData['group']=='A'][['date','revenue', 'orders']]\n",
    "cumulativeRevenueB = cumulativeData[cumulativeData['group']=='B'][['date','revenue', 'orders']]"
   ]
  },
  {
   "cell_type": "code",
   "execution_count": 32,
   "metadata": {},
   "outputs": [
    {
     "data": {
      "image/png": "[encoded data removed]",
      "text/plain": [
       "<Figure size 1500x500 with 1 Axes>"
      ]
     },
     "metadata": {},
     "output_type": "display_data"
    }
   ],
   "source": [
    "from pandas.plotting import register_matplotlib_converters\n",
    "register_matplotlib_converters()\n",
    "\n",
    "plt.figure(figsize=(15,5))\n",
    "plt.title('График кумулятивной выручки по группам')\n",
    "plt.ylabel(\"Выручка\")\n",
    "plt.xlabel(\"Даты наблюдения\")\n",
    "plt.plot(cumulativeRevenueA['date'], cumulativeRevenueA['revenue'], label='Куммулятивная выручка группы A')\n",
    "plt.plot(cumulativeRevenueB['date'], cumulativeRevenueB['revenue'], label='Куммулятивная выручка группы B')\n",
    "plt.grid()\n",
    "plt.legend();"
   ]
  },
  {
   "cell_type": "code",
   "execution_count": 33,
   "metadata": {},
   "outputs": [
    {
     "data": {
      "text/html": [
       "<div>\n",
       "<style scoped>\n",
       "    .dataframe tbody tr th:only-of-type {\n",
       "        vertical-align: middle;\n",
       "    }\n",
       "\n",
       "    .dataframe tbody tr th {\n",
       "        vertical-align: top;\n",
       "    }\n",
       "\n",
       "    .dataframe thead th {\n",
       "        text-align: right;\n",
       "    }\n",
       "</style>\n",
       "<table border=\"1\" class=\"dataframe\">\n",
       "  <thead>\n",
       "    <tr style=\"text-align: right;\">\n",
       "      <th></th>\n",
       "      <th>date</th>\n",
       "      <th>revenue</th>\n",
       "      <th>orders</th>\n",
       "    </tr>\n",
       "  </thead>\n",
       "  <tbody>\n",
       "    <tr>\n",
       "      <th>33</th>\n",
       "      <td>2019-08-17</td>\n",
       "      <td>2155542</td>\n",
       "      <td>320</td>\n",
       "    </tr>\n",
       "    <tr>\n",
       "      <th>35</th>\n",
       "      <td>2019-08-18</td>\n",
       "      <td>2190865</td>\n",
       "      <td>327</td>\n",
       "    </tr>\n",
       "    <tr>\n",
       "      <th>37</th>\n",
       "      <td>2019-08-19</td>\n",
       "      <td>3620785</td>\n",
       "      <td>348</td>\n",
       "    </tr>\n",
       "    <tr>\n",
       "      <th>39</th>\n",
       "      <td>2019-08-20</td>\n",
       "      <td>3768059</td>\n",
       "      <td>368</td>\n",
       "    </tr>\n",
       "    <tr>\n",
       "      <th>41</th>\n",
       "      <td>2019-08-21</td>\n",
       "      <td>3908406</td>\n",
       "      <td>380</td>\n",
       "    </tr>\n",
       "  </tbody>\n",
       "</table>\n",
       "</div>"
      ],
      "text/plain": [
       "         date  revenue  orders\n",
       "33 2019-08-17  2155542  320   \n",
       "35 2019-08-18  2190865  327   \n",
       "37 2019-08-19  3620785  348   \n",
       "39 2019-08-20  3768059  368   \n",
       "41 2019-08-21  3908406  380   "
      ]
     },
     "execution_count": 33,
     "metadata": {},
     "output_type": "execute_result"
    }
   ],
   "source": [
    "cumulativeRevenueB.query(' \"2019-08-17\" <= date <= \"2019-08-21\" ')"
   ]
  },
  {
   "cell_type": "code",
   "execution_count": 34,
   "metadata": {},
   "outputs": [
    {
     "name": "stdout",
     "output_type": "stream",
     "text": [
      "Медианное значение одного заказа 19 августа = 2578.0\n"
     ]
    },
    {
     "data": {
      "text/html": [
       "<div>\n",
       "<style scoped>\n",
       "    .dataframe tbody tr th:only-of-type {\n",
       "        vertical-align: middle;\n",
       "    }\n",
       "\n",
       "    .dataframe tbody tr th {\n",
       "        vertical-align: top;\n",
       "    }\n",
       "\n",
       "    .dataframe thead th {\n",
       "        text-align: right;\n",
       "    }\n",
       "</style>\n",
       "<table border=\"1\" class=\"dataframe\">\n",
       "  <thead>\n",
       "    <tr style=\"text-align: right;\">\n",
       "      <th></th>\n",
       "      <th>transactionId</th>\n",
       "      <th>visitorId</th>\n",
       "      <th>date</th>\n",
       "      <th>revenue</th>\n",
       "      <th>group</th>\n",
       "    </tr>\n",
       "  </thead>\n",
       "  <tbody>\n",
       "    <tr>\n",
       "      <th>425</th>\n",
       "      <td>590470918</td>\n",
       "      <td>1920142716</td>\n",
       "      <td>2019-08-19</td>\n",
       "      <td>1294500</td>\n",
       "      <td>B</td>\n",
       "    </tr>\n",
       "    <tr>\n",
       "      <th>530</th>\n",
       "      <td>3970235543</td>\n",
       "      <td>2912540959</td>\n",
       "      <td>2019-08-19</td>\n",
       "      <td>43990</td>\n",
       "      <td>A</td>\n",
       "    </tr>\n",
       "    <tr>\n",
       "      <th>527</th>\n",
       "      <td>1570513684</td>\n",
       "      <td>2837914161</td>\n",
       "      <td>2019-08-19</td>\n",
       "      <td>33405</td>\n",
       "      <td>B</td>\n",
       "    </tr>\n",
       "    <tr>\n",
       "      <th>421</th>\n",
       "      <td>3765974140</td>\n",
       "      <td>1357170471</td>\n",
       "      <td>2019-08-19</td>\n",
       "      <td>31680</td>\n",
       "      <td>A</td>\n",
       "    </tr>\n",
       "    <tr>\n",
       "      <th>461</th>\n",
       "      <td>2683113224</td>\n",
       "      <td>154576532</td>\n",
       "      <td>2019-08-19</td>\n",
       "      <td>26550</td>\n",
       "      <td>B</td>\n",
       "    </tr>\n",
       "    <tr>\n",
       "      <th>368</th>\n",
       "      <td>3268879337</td>\n",
       "      <td>2536252163</td>\n",
       "      <td>2019-08-19</td>\n",
       "      <td>20026</td>\n",
       "      <td>B</td>\n",
       "    </tr>\n",
       "    <tr>\n",
       "      <th>366</th>\n",
       "      <td>2037051350</td>\n",
       "      <td>1957949546</td>\n",
       "      <td>2019-08-19</td>\n",
       "      <td>16770</td>\n",
       "      <td>A</td>\n",
       "    </tr>\n",
       "    <tr>\n",
       "      <th>463</th>\n",
       "      <td>4170537404</td>\n",
       "      <td>290022471</td>\n",
       "      <td>2019-08-19</td>\n",
       "      <td>16480</td>\n",
       "      <td>B</td>\n",
       "    </tr>\n",
       "  </tbody>\n",
       "</table>\n",
       "</div>"
      ],
      "text/plain": [
       "     transactionId   visitorId       date  revenue group\n",
       "425  590470918      1920142716 2019-08-19  1294500  B   \n",
       "530  3970235543     2912540959 2019-08-19  43990    A   \n",
       "527  1570513684     2837914161 2019-08-19  33405    B   \n",
       "421  3765974140     1357170471 2019-08-19  31680    A   \n",
       "461  2683113224     154576532  2019-08-19  26550    B   \n",
       "368  3268879337     2536252163 2019-08-19  20026    B   \n",
       "366  2037051350     1957949546 2019-08-19  16770    A   \n",
       "463  4170537404     290022471  2019-08-19  16480    B   "
      ]
     },
     "execution_count": 34,
     "metadata": {},
     "output_type": "execute_result"
    }
   ],
   "source": [
    "#print('Суммарная выручка за 19 августа =',orders.query(' date == \"2019-08-19\" ')['revenue'].sum())\n",
    "print('Медианное значение одного заказа 19 августа =',orders.query(' date == \"2019-08-19\" ')['revenue'].median())\n",
    "orders.query(' date == \"2019-08-19\" ').sort_values(by='revenue', ascending=False).head(8)"
   ]
  },
  {
   "cell_type": "markdown",
   "metadata": {},
   "source": [
    "***ВЫВОД***\n",
    "\n",
    "***По графиками видно. что  в течении Августа общая тенденция выручки групп А и В  - рост, у группы В рост выше. 13 Августа рост совпал d обеих группах. В период между 17 и 21 Августа был резкий рост выручки в группе В. Это произошло за счет заказа №425 в 1,3 млн. руб. который в 492 раза больше медианного заказа за этот день и можно этот заказ рассматривать как выброс, остальные заказы в этот день не выше 43 тыс.руб.***"
   ]
  },
  {
   "cell_type": "markdown",
   "metadata": {},
   "source": [
    "***2.2\tПостройте график кумулятивного среднего чека по группам. Сделайте выводы и предположения***"
   ]
  },
  {
   "cell_type": "code",
   "execution_count": 56,
   "metadata": {},
   "outputs": [
    {
     "data": {
      "image/png": "[encoded data removed]",
      "text/plain": [
       "<Figure size 1500x500 with 1 Axes>"
      ]
     },
     "metadata": {},
     "output_type": "display_data"
    }
   ],
   "source": [
    "# Чтобы построить графики среднего кумулятивного чека по группам — разделим кумулятивную выручку на кумулятивное число заказов:\n",
    "\n",
    "plt.figure(figsize=(15,5))\n",
    "plt.title('График кумулятивного чека по группам')\n",
    "plt.ylabel(\"Выручка\")\n",
    "plt.xlabel(\"Даты наблюдения\")\n",
    "plt.grid()\n",
    "plt.plot(cumulativeRevenueA['date'], cumulativeRevenueA['revenue']/cumulativeRevenueA['orders'], label='средний кумулятивный чек группы A')\n",
    "plt.plot(cumulativeRevenueB['date'], cumulativeRevenueB['revenue']/cumulativeRevenueB['orders'], label='средний кумулятивный чек группы B')\n",
    "plt.legend() ;"
   ]
  },
  {
   "cell_type": "markdown",
   "metadata": {},
   "source": [
    "***ВЫВОД***\n",
    "\n",
    "***График среднего чека аналогичен графику средней выручки. В начале месяца чек группы В стабильно выше, но 13 числа выше чек в группе А. Всплеск среднего чека 19 августа вызван аномально большим заказом №425 в этот день. После этого чек группы В уменьшается, а в группе А наблюдается небольшая динамика роста.***"
   ]
  },
  {
   "cell_type": "markdown",
   "metadata": {},
   "source": [
    "***2.3. Постройте график относительного изменения кумулятивного среднего чека группы B к группе A. Сделайте выводы и предположения***"
   ]
  },
  {
   "cell_type": "code",
   "execution_count": 57,
   "metadata": {},
   "outputs": [
    {
     "data": {
      "image/png": "[encoded data removed]",
      "text/plain": [
       "<Figure size 1500x500 with 1 Axes>"
      ]
     },
     "metadata": {},
     "output_type": "display_data"
    }
   ],
   "source": [
    "#Cобирем данные в одном датафрейме и потом построим график относительного изменения кумулятивного среднего чека групп\n",
    "\n",
    "mergedCumulativeRevenue = cumulativeRevenueA.merge(cumulativeRevenueB, left_on='date', right_on='date', how='left', suffixes=['A', 'B'])\n",
    "\n",
    "plt.figure(figsize=(15,5))\n",
    "plt.ylabel(\"% изменения\")\n",
    "plt.xlabel(\"Даты наблюдения\")\n",
    "plt.grid()\n",
    "plt.plot(mergedCumulativeRevenue['date'], (mergedCumulativeRevenue['revenueB']/mergedCumulativeRevenue['ordersB'])/ \\\n",
    "         (mergedCumulativeRevenue['revenueA']/mergedCumulativeRevenue['ordersA'])-1)\n",
    "plt.title('Относительное изменение кумулятивного среднего чека групп \"B\" к \"А\"')\n",
    "plt.axhline(y=0, color='black', linestyle='--') ;"
   ]
  },
  {
   "cell_type": "markdown",
   "metadata": {},
   "source": [
    "***ВЫВОД***\n",
    "\n",
    "***Поскольку этот график является производным от графика п.2.2 то и выводы похожи. Средний чек Группы B рос с 1 августа, 2 августа уже превысил чек Групы A и рос до 7 августа. 7-8 пошло обратное движение до 13 августа. С 13 чек Группы B опять начал расти и уже 15-16 августа наступил переломный момент и чек Группы B оказался больше и находился больше чека Группы A до конца месяца. Опять же здесь хорошо видно, что 19 августа был сильный всплеск (рост) за счет заказа №425 с аномально большим объемом, а в последующие дни средний чек Группы B также постепенно снижался.***"
   ]
  },
  {
   "cell_type": "markdown",
   "metadata": {},
   "source": [
    "***2.4. Постройте график кумулятивной конверсии по группам. Сделайте выводы и предположения***"
   ]
  },
  {
   "cell_type": "code",
   "execution_count": 58,
   "metadata": {},
   "outputs": [
    {
     "data": {
      "image/png": "[encoded data removed]",
      "text/plain": [
       "<Figure size 1500x500 with 1 Axes>"
      ]
     },
     "metadata": {},
     "output_type": "display_data"
    }
   ],
   "source": [
    "# Проанализируем график куммулятивной конверсии\n",
    "\n",
    "cumulativeData['conversion'] = cumulativeData['orders']/cumulativeData['visitors']\n",
    "\n",
    "cumulativeDataA = cumulativeData[cumulativeData['group']=='A']\n",
    "cumulativeDataB = cumulativeData[cumulativeData['group']=='B']\n",
    "\n",
    "plt.figure(figsize=(15,5))\n",
    "plt.ylabel(\"Конверсия\")\n",
    "plt.xlabel(\"Даты наблюдения\")\n",
    "plt.grid()\n",
    "plt.plot(cumulativeDataA['date'], cumulativeDataA['conversion'], label='кумулятивная конверсия группы A')\n",
    "plt.plot(cumulativeDataB['date'], cumulativeDataB['conversion'], label='кумулятивная конверсия группы B')\n",
    "plt.title('Кумулятивная конверсия')\n",
    "plt.legend();"
   ]
  },
  {
   "cell_type": "markdown",
   "metadata": {},
   "source": [
    "***ВЫВОД***\n",
    "\n",
    "***С начала месяца 1-5 августа конверсия группы A была больше группы В, 3 августа она была максимальной за весь период наблюдения между группами, после пика она пошла сильно вниз и 9 агуста достигла уровня чуть выше 0,026, а начиная с 13 августа колебалась в диапазоне 0,024-0,026. \n",
    "Конверсия группы B с 4 августа начала расти и уже 6 августа превысила конверсию группы A и росла до 9 августа чуть ниже 0,032, между 9 и 18 Августа были колебания 0,027 до 0,032 затем пошло постепенное снижение до диапазона 0,030-0,028. \n",
    "Можно сделать вывод - начиная с 6 августа конверсия группы B больше чем группы A.***"
   ]
  },
  {
   "cell_type": "markdown",
   "metadata": {},
   "source": [
    "***2.5.Постройте график относительного изменения кумулятивной конверсии группы B к группе A. Сделайте выводы и предположения.***"
   ]
  },
  {
   "cell_type": "code",
   "execution_count": 59,
   "metadata": {},
   "outputs": [
    {
     "data": {
      "image/png": "[encoded data removed]",
      "text/plain": [
       "<Figure size 1500x500 with 1 Axes>"
      ]
     },
     "metadata": {},
     "output_type": "display_data"
    }
   ],
   "source": [
    "mergedCumulativeConversions = cumulativeDataA[['date','conversion']].merge(cumulativeDataB[['date','conversion']], \\\n",
    "                                                    left_on='date', right_on='date', how='left', suffixes=['A', 'B'])\n",
    "plt.figure(figsize=(15,5))\n",
    "plt.grid()\n",
    "plt.plot(mergedCumulativeConversions['date'], mergedCumulativeConversions['conversionB']/mergedCumulativeConversions['conversionA']-1, label=\"Относительный прирост конверсии группы B относительно группы A\")\n",
    "\n",
    "plt.title('Относительное изменение кумулятивной конверсии группы B к группе A')\n",
    "plt.ylabel(\"% изменения\")\n",
    "plt.xlabel(\"Даты наблюдения\")\n",
    "plt.axhline(y=0, color='black', linestyle='--') \n",
    "plt.axhline(y=-0.1, color='grey', linestyle='--');\n",
    "#plt.axhline(y=0.21, color='grey', linestyle='--')\n",
    "#plt.axhline(y=0.057, color='grey', linestyle='--');\n",
    " "
   ]
  },
  {
   "cell_type": "markdown",
   "metadata": {},
   "source": [
    "***ВЫВОД***\n",
    "\n",
    "***С 1 по 5 Августа - несколько дней когда конверсия группы A была больше на 5-10% конверсии группы В, но в целом \n",
    "конверсия группы В показывает себя намного лучше начиная с 5-го Августа, достигая прироста в течении месяца до чуть более 20% относительно конверсии группы А.***"
   ]
  },
  {
   "cell_type": "markdown",
   "metadata": {},
   "source": [
    "***2.6.Постройте точечный график количества заказов по пользователям. Сделайте выводы и предположения.***"
   ]
  },
  {
   "cell_type": "code",
   "execution_count": 60,
   "metadata": {},
   "outputs": [
    {
     "data": {
      "text/html": [
       "<div>\n",
       "<style scoped>\n",
       "    .dataframe tbody tr th:only-of-type {\n",
       "        vertical-align: middle;\n",
       "    }\n",
       "\n",
       "    .dataframe tbody tr th {\n",
       "        vertical-align: top;\n",
       "    }\n",
       "\n",
       "    .dataframe thead th {\n",
       "        text-align: right;\n",
       "    }\n",
       "</style>\n",
       "<table border=\"1\" class=\"dataframe\">\n",
       "  <thead>\n",
       "    <tr style=\"text-align: right;\">\n",
       "      <th></th>\n",
       "      <th>transactionId</th>\n",
       "      <th>visitorId</th>\n",
       "      <th>date</th>\n",
       "      <th>revenue</th>\n",
       "      <th>group</th>\n",
       "    </tr>\n",
       "  </thead>\n",
       "  <tbody>\n",
       "    <tr>\n",
       "      <th>0</th>\n",
       "      <td>3667963787</td>\n",
       "      <td>3312258926</td>\n",
       "      <td>2019-08-15</td>\n",
       "      <td>1650</td>\n",
       "      <td>B</td>\n",
       "    </tr>\n",
       "    <tr>\n",
       "      <th>1</th>\n",
       "      <td>2804400009</td>\n",
       "      <td>3642806036</td>\n",
       "      <td>2019-08-15</td>\n",
       "      <td>730</td>\n",
       "      <td>B</td>\n",
       "    </tr>\n",
       "    <tr>\n",
       "      <th>3</th>\n",
       "      <td>3797467345</td>\n",
       "      <td>1196621759</td>\n",
       "      <td>2019-08-15</td>\n",
       "      <td>9759</td>\n",
       "      <td>B</td>\n",
       "    </tr>\n",
       "  </tbody>\n",
       "</table>\n",
       "</div>"
      ],
      "text/plain": [
       "   transactionId   visitorId       date  revenue group\n",
       "0  3667963787     3312258926 2019-08-15  1650     B   \n",
       "1  2804400009     3642806036 2019-08-15  730      B   \n",
       "3  3797467345     1196621759 2019-08-15  9759     B   "
      ]
     },
     "execution_count": 60,
     "metadata": {},
     "output_type": "execute_result"
    }
   ],
   "source": [
    "orders.head(3)"
   ]
  },
  {
   "cell_type": "code",
   "execution_count": 61,
   "metadata": {},
   "outputs": [
    {
     "data": {
      "text/html": [
       "<div>\n",
       "<style scoped>\n",
       "    .dataframe tbody tr th:only-of-type {\n",
       "        vertical-align: middle;\n",
       "    }\n",
       "\n",
       "    .dataframe tbody tr th {\n",
       "        vertical-align: top;\n",
       "    }\n",
       "\n",
       "    .dataframe thead th {\n",
       "        text-align: right;\n",
       "    }\n",
       "</style>\n",
       "<table border=\"1\" class=\"dataframe\">\n",
       "  <thead>\n",
       "    <tr style=\"text-align: right;\">\n",
       "      <th></th>\n",
       "      <th>user_id</th>\n",
       "      <th>orders</th>\n",
       "    </tr>\n",
       "  </thead>\n",
       "  <tbody>\n",
       "    <tr>\n",
       "      <th>908</th>\n",
       "      <td>3967698036</td>\n",
       "      <td>3</td>\n",
       "    </tr>\n",
       "    <tr>\n",
       "      <th>55</th>\n",
       "      <td>249864742</td>\n",
       "      <td>3</td>\n",
       "    </tr>\n",
       "    <tr>\n",
       "      <th>478</th>\n",
       "      <td>2108163459</td>\n",
       "      <td>3</td>\n",
       "    </tr>\n",
       "    <tr>\n",
       "      <th>687</th>\n",
       "      <td>2988190573</td>\n",
       "      <td>3</td>\n",
       "    </tr>\n",
       "    <tr>\n",
       "      <th>890</th>\n",
       "      <td>3908431265</td>\n",
       "      <td>3</td>\n",
       "    </tr>\n",
       "    <tr>\n",
       "      <th>138</th>\n",
       "      <td>611059232</td>\n",
       "      <td>3</td>\n",
       "    </tr>\n",
       "    <tr>\n",
       "      <th>632</th>\n",
       "      <td>2742574263</td>\n",
       "      <td>3</td>\n",
       "    </tr>\n",
       "    <tr>\n",
       "      <th>157</th>\n",
       "      <td>678354126</td>\n",
       "      <td>2</td>\n",
       "    </tr>\n",
       "    <tr>\n",
       "      <th>323</th>\n",
       "      <td>1404560065</td>\n",
       "      <td>2</td>\n",
       "    </tr>\n",
       "    <tr>\n",
       "      <th>452</th>\n",
       "      <td>1985475298</td>\n",
       "      <td>2</td>\n",
       "    </tr>\n",
       "  </tbody>\n",
       "</table>\n",
       "</div>"
      ],
      "text/plain": [
       "        user_id  orders\n",
       "908  3967698036  3     \n",
       "55   249864742   3     \n",
       "478  2108163459  3     \n",
       "687  2988190573  3     \n",
       "890  3908431265  3     \n",
       "138  611059232   3     \n",
       "632  2742574263  3     \n",
       "157  678354126   2     \n",
       "323  1404560065  2     \n",
       "452  1985475298  2     "
      ]
     },
     "execution_count": 61,
     "metadata": {},
     "output_type": "execute_result"
    }
   ],
   "source": [
    "ordersByUsers = orders.drop(['group', 'revenue', 'date'], axis=1).groupby('visitorId', as_index=False). \\\n",
    "                                                                        agg({'transactionId' : pd.Series.nunique})\n",
    "\n",
    "ordersByUsers.columns = ['user_id','orders']\n",
    "ordersByUsers.sort_values(by='orders',ascending=False).head(10)"
   ]
  },
  {
   "cell_type": "code",
   "execution_count": 62,
   "metadata": {},
   "outputs": [
    {
     "data": {
      "image/png": "[encoded data removed]",
      "text/plain": [
       "<Figure size 1500x500 with 1 Axes>"
      ]
     },
     "metadata": {},
     "output_type": "display_data"
    }
   ],
   "source": [
    "x_values = pd.Series(range(0,len(ordersByUsers)))\n",
    "\n",
    "plt.figure(figsize=(15,5))\n",
    "plt.title('График кумулятивной выручки по группам')\n",
    "plt.ylabel(\"Количество заказов\")\n",
    "plt.grid()\n",
    "plt.scatter(x_values, ordersByUsers['orders'], alpha=0.5) ;"
   ]
  },
  {
   "cell_type": "markdown",
   "metadata": {},
   "source": [
    "***ВЫВОД***\n",
    "\n",
    "***Больше всего пользователей которые совершили 1 заказ. Тех кто совершили 2 заказа уже не так много. И уже те кто совершил 3 заказа совсем мало, и считать ли это выбросами пока не ясно, - надо посчитать процентили (95 и 99). А все что выше 3 заказов - явно уже аномалия.***"
   ]
  },
  {
   "cell_type": "markdown",
   "metadata": {},
   "source": [
    "***2.7.Посчитайте 95-й и 99-й перцентили количества заказов на пользователя. Выберите границу для определения аномальных пользователей.***"
   ]
  },
  {
   "cell_type": "code",
   "execution_count": 63,
   "metadata": {},
   "outputs": [
    {
     "name": "stdout",
     "output_type": "stream",
     "text": [
      "Рассчитаем 95 и 99 перцентили по заказам :  [1. 2.]\n"
     ]
    }
   ],
   "source": [
    "print('Рассчитаем 95 и 99 перцентили по заказам : ', np.percentile(ordersByUsers['orders'], [95, 99])) "
   ]
  },
  {
   "cell_type": "markdown",
   "metadata": {},
   "source": [
    "***ВЫВОД***\n",
    "\n",
    "***Большинство пользователей совершают один максимум 2 заказа все что больше это аномалия.***"
   ]
  },
  {
   "cell_type": "markdown",
   "metadata": {},
   "source": [
    "***2.8. Постройте точечный график стоимостей заказов. Сделайте выводы и предположения.***"
   ]
  },
  {
   "cell_type": "code",
   "execution_count": 64,
   "metadata": {},
   "outputs": [
    {
     "data": {
      "image/png": "[encoded data removed]",
      "text/plain": [
       "<Figure size 1500x500 with 1 Axes>"
      ]
     },
     "metadata": {},
     "output_type": "display_data"
    }
   ],
   "source": [
    "x_values = pd.Series(range(0,len(orders['revenue'])))\n",
    "plt.figure(figsize=(15,5))\n",
    "plt.grid()\n",
    "plt.title('График стоимостей заказов')\n",
    "plt.ylabel(\"Стоимость заказа, млн.руб.\")\n",
    "plt.scatter(x_values, orders['revenue'], alpha=0.5);"
   ]
  },
  {
   "cell_type": "markdown",
   "metadata": {},
   "source": [
    "***ВЫВОД***\n",
    "\n",
    "***Хорошо видно самый аномальный заказ №425 на 1.3 млн и еще один на ~200 тысяц, остальные примерно не больше 100 тысяч. Чтобы найти более точную границу аномальных заказов рассчитаем процентили***"
   ]
  },
  {
   "cell_type": "markdown",
   "metadata": {},
   "source": [
    "***2.9.Посчитайте 95-й и 99-й перцентили стоимости заказов. Выберите границу для определения аномальных заказов.***"
   ]
  },
  {
   "cell_type": "code",
   "execution_count": 44,
   "metadata": {},
   "outputs": [
    {
     "name": "stdout",
     "output_type": "stream",
     "text": [
      "Рассчитаем 95 и 99 перцентили по выручке заказов :  [26785. 53904.]\n"
     ]
    }
   ],
   "source": [
    "print('Рассчитаем 95 и 99 перцентили по выручке заказов : ', np.percentile(orders['revenue'], [95, 99])) "
   ]
  },
  {
   "cell_type": "markdown",
   "metadata": {},
   "source": [
    "***ВЫВОД***\n",
    "\n",
    "***99% заказов по стоимости меньше 53904 установим ее в качестве границы аномалий***"
   ]
  },
  {
   "cell_type": "markdown",
   "metadata": {},
   "source": [
    "***2.10. Посчитайте статистическую значимость различий в конверсии между группами по «сырым» данным. Сделайте выводы и предположения.***"
   ]
  },
  {
   "cell_type": "markdown",
   "metadata": {},
   "source": [
    "- Соберем все данные по заказам и визитам а также добавим кумулятивные показатели в одну таблицу. Для этого создадим несколько таблиц а затем объединим их"
   ]
  },
  {
   "cell_type": "code",
   "execution_count": 65,
   "metadata": {},
   "outputs": [
    {
     "data": {
      "text/html": [
       "<div>\n",
       "<style scoped>\n",
       "    .dataframe tbody tr th:only-of-type {\n",
       "        vertical-align: middle;\n",
       "    }\n",
       "\n",
       "    .dataframe tbody tr th {\n",
       "        vertical-align: top;\n",
       "    }\n",
       "\n",
       "    .dataframe thead th {\n",
       "        text-align: right;\n",
       "    }\n",
       "</style>\n",
       "<table border=\"1\" class=\"dataframe\">\n",
       "  <thead>\n",
       "    <tr style=\"text-align: right;\">\n",
       "      <th></th>\n",
       "      <th>date</th>\n",
       "      <th>group</th>\n",
       "      <th>visitors</th>\n",
       "    </tr>\n",
       "  </thead>\n",
       "  <tbody>\n",
       "    <tr>\n",
       "      <th>0</th>\n",
       "      <td>2019-08-01</td>\n",
       "      <td>A</td>\n",
       "      <td>719</td>\n",
       "    </tr>\n",
       "    <tr>\n",
       "      <th>1</th>\n",
       "      <td>2019-08-02</td>\n",
       "      <td>A</td>\n",
       "      <td>619</td>\n",
       "    </tr>\n",
       "  </tbody>\n",
       "</table>\n",
       "</div>"
      ],
      "text/plain": [
       "        date group  visitors\n",
       "0 2019-08-01  A     719     \n",
       "1 2019-08-02  A     619     "
      ]
     },
     "execution_count": 65,
     "metadata": {},
     "output_type": "execute_result"
    }
   ],
   "source": [
    "visitors.head(2)"
   ]
  },
  {
   "cell_type": "code",
   "execution_count": 66,
   "metadata": {},
   "outputs": [
    {
     "data": {
      "text/html": [
       "<div>\n",
       "<style scoped>\n",
       "    .dataframe tbody tr th:only-of-type {\n",
       "        vertical-align: middle;\n",
       "    }\n",
       "\n",
       "    .dataframe tbody tr th {\n",
       "        vertical-align: top;\n",
       "    }\n",
       "\n",
       "    .dataframe thead th {\n",
       "        text-align: right;\n",
       "    }\n",
       "</style>\n",
       "<table border=\"1\" class=\"dataframe\">\n",
       "  <thead>\n",
       "    <tr style=\"text-align: right;\">\n",
       "      <th></th>\n",
       "      <th>transactionId</th>\n",
       "      <th>visitorId</th>\n",
       "      <th>date</th>\n",
       "      <th>revenue</th>\n",
       "      <th>group</th>\n",
       "    </tr>\n",
       "  </thead>\n",
       "  <tbody>\n",
       "    <tr>\n",
       "      <th>0</th>\n",
       "      <td>3667963787</td>\n",
       "      <td>3312258926</td>\n",
       "      <td>2019-08-15</td>\n",
       "      <td>1650</td>\n",
       "      <td>B</td>\n",
       "    </tr>\n",
       "    <tr>\n",
       "      <th>1</th>\n",
       "      <td>2804400009</td>\n",
       "      <td>3642806036</td>\n",
       "      <td>2019-08-15</td>\n",
       "      <td>730</td>\n",
       "      <td>B</td>\n",
       "    </tr>\n",
       "  </tbody>\n",
       "</table>\n",
       "</div>"
      ],
      "text/plain": [
       "   transactionId   visitorId       date  revenue group\n",
       "0  3667963787     3312258926 2019-08-15  1650     B   \n",
       "1  2804400009     3642806036 2019-08-15  730      B   "
      ]
     },
     "execution_count": 66,
     "metadata": {},
     "output_type": "execute_result"
    }
   ],
   "source": [
    "orders.head(2)"
   ]
  },
  {
   "cell_type": "code",
   "execution_count": 69,
   "metadata": {},
   "outputs": [],
   "source": [
    "visitorsADaily = visitors[visitors['group']=='A'][['date', 'visitors']]\n",
    "visitorsADaily.columns = ['date', 'visitorsPerDateA']\n",
    "\n",
    "visitorsACummulative = visitorsADaily.apply(lambda x: visitorsADaily[visitorsADaily['date'] <= x['date']]. \\\n",
    "                                            agg({'date' : 'max', 'visitorsPerDateA' : 'sum'}), axis=1)\n",
    "visitorsACummulative.columns = ['date', 'visitorsCummulativeA']\n",
    "\n",
    "visitorsBDaily = visitors[visitors['group']=='B'][['date', 'visitors']]\n",
    "visitorsBDaily.columns = ['date', 'visitorsPerDateB']\n",
    "\n",
    "visitorsBCummulative = visitorsBDaily.apply(lambda x: visitorsBDaily[visitorsBDaily['date'] <= x['date']]. \\\n",
    "                                            agg({'date' : 'max', 'visitorsPerDateB' : 'sum'}), axis=1)\n",
    "visitorsBCummulative.columns = ['date', 'visitorsCummulativeB']\n",
    "\n",
    "\n",
    "ordersADaily = orders[orders['group']=='A'][['date', 'transactionId', 'visitorId', 'revenue']]\\\n",
    "    .groupby('date', as_index=False)\\\n",
    "    .agg({'transactionId' : pd.Series.nunique, 'revenue' : 'sum'})\n",
    "ordersADaily.columns = ['date', 'ordersPerDateA', 'revenuePerDateA']\n",
    "\n",
    "ordersACummulative = ordersADaily.apply(\n",
    "    lambda x: \\\n",
    "        ordersADaily[ordersADaily['date'] <= x['date']]\\\n",
    "            .agg({\n",
    "                'date' : 'max',\n",
    "                'ordersPerDateA' : 'sum',\n",
    "                'revenuePerDateA' : 'sum'}), axis=1).sort_values(by=['date'])\n",
    "ordersACummulative.columns = ['date', 'ordersCummulativeA', 'revenueCummulativeA']\n",
    "\n",
    "ordersBDaily = orders[orders['group']=='B'][['date', 'transactionId', 'visitorId', 'revenue']]\\\n",
    "    .groupby('date', as_index=False)\\\n",
    "    .agg({'transactionId' : pd.Series.nunique, 'revenue' : 'sum'})\n",
    "ordersBDaily.columns = ['date', 'ordersPerDateB', 'revenuePerDateB']\n",
    "\n",
    "ordersBCummulative = ordersBDaily.apply(\n",
    "    lambda x: \\\n",
    "        ordersBDaily[ordersBDaily['date'] <= x['date']]\\\n",
    "            .agg({\n",
    "                'date' : 'max',\n",
    "                'ordersPerDateB' : 'sum',\n",
    "                'revenuePerDateB' : 'sum'}), axis=1).sort_values(by=['date'])\n",
    "ordersBCummulative.columns = ['date', 'ordersCummulativeB', 'revenueCummulativeB']"
   ]
  },
  {
   "cell_type": "markdown",
   "metadata": {},
   "source": [
    "- Теперь соеденим все в одну таблицу"
   ]
  },
  {
   "cell_type": "code",
   "execution_count": 70,
   "metadata": {},
   "outputs": [
    {
     "data": {
      "text/html": [
       "<div>\n",
       "<style scoped>\n",
       "    .dataframe tbody tr th:only-of-type {\n",
       "        vertical-align: middle;\n",
       "    }\n",
       "\n",
       "    .dataframe tbody tr th {\n",
       "        vertical-align: top;\n",
       "    }\n",
       "\n",
       "    .dataframe thead th {\n",
       "        text-align: right;\n",
       "    }\n",
       "</style>\n",
       "<table border=\"1\" class=\"dataframe\">\n",
       "  <thead>\n",
       "    <tr style=\"text-align: right;\">\n",
       "      <th></th>\n",
       "      <th>date</th>\n",
       "      <th>ordersPerDateA</th>\n",
       "      <th>revenuePerDateA</th>\n",
       "      <th>ordersPerDateB</th>\n",
       "      <th>revenuePerDateB</th>\n",
       "      <th>ordersCummulativeA</th>\n",
       "      <th>revenueCummulativeA</th>\n",
       "      <th>ordersCummulativeB</th>\n",
       "      <th>revenueCummulativeB</th>\n",
       "      <th>visitorsPerDateA</th>\n",
       "      <th>visitorsPerDateB</th>\n",
       "      <th>visitorsCummulativeA</th>\n",
       "      <th>visitorsCummulativeB</th>\n",
       "    </tr>\n",
       "  </thead>\n",
       "  <tbody>\n",
       "    <tr>\n",
       "      <th>0</th>\n",
       "      <td>2019-08-01</td>\n",
       "      <td>23</td>\n",
       "      <td>142779</td>\n",
       "      <td>17</td>\n",
       "      <td>59758</td>\n",
       "      <td>23</td>\n",
       "      <td>142779</td>\n",
       "      <td>17</td>\n",
       "      <td>59758</td>\n",
       "      <td>719</td>\n",
       "      <td>713</td>\n",
       "      <td>719</td>\n",
       "      <td>713</td>\n",
       "    </tr>\n",
       "    <tr>\n",
       "      <th>1</th>\n",
       "      <td>2019-08-02</td>\n",
       "      <td>19</td>\n",
       "      <td>91602</td>\n",
       "      <td>23</td>\n",
       "      <td>162043</td>\n",
       "      <td>42</td>\n",
       "      <td>234381</td>\n",
       "      <td>40</td>\n",
       "      <td>221801</td>\n",
       "      <td>619</td>\n",
       "      <td>581</td>\n",
       "      <td>1338</td>\n",
       "      <td>1294</td>\n",
       "    </tr>\n",
       "    <tr>\n",
       "      <th>2</th>\n",
       "      <td>2019-08-03</td>\n",
       "      <td>24</td>\n",
       "      <td>112473</td>\n",
       "      <td>14</td>\n",
       "      <td>67049</td>\n",
       "      <td>66</td>\n",
       "      <td>346854</td>\n",
       "      <td>54</td>\n",
       "      <td>288850</td>\n",
       "      <td>507</td>\n",
       "      <td>509</td>\n",
       "      <td>1845</td>\n",
       "      <td>1803</td>\n",
       "    </tr>\n",
       "    <tr>\n",
       "      <th>3</th>\n",
       "      <td>2019-08-04</td>\n",
       "      <td>11</td>\n",
       "      <td>41176</td>\n",
       "      <td>14</td>\n",
       "      <td>96890</td>\n",
       "      <td>77</td>\n",
       "      <td>388030</td>\n",
       "      <td>68</td>\n",
       "      <td>385740</td>\n",
       "      <td>717</td>\n",
       "      <td>770</td>\n",
       "      <td>2562</td>\n",
       "      <td>2573</td>\n",
       "    </tr>\n",
       "    <tr>\n",
       "      <th>4</th>\n",
       "      <td>2019-08-05</td>\n",
       "      <td>22</td>\n",
       "      <td>86383</td>\n",
       "      <td>21</td>\n",
       "      <td>89908</td>\n",
       "      <td>99</td>\n",
       "      <td>474413</td>\n",
       "      <td>89</td>\n",
       "      <td>475648</td>\n",
       "      <td>756</td>\n",
       "      <td>707</td>\n",
       "      <td>3318</td>\n",
       "      <td>3280</td>\n",
       "    </tr>\n",
       "  </tbody>\n",
       "</table>\n",
       "</div>"
      ],
      "text/plain": [
       "        date  ordersPerDateA  revenuePerDateA  ordersPerDateB  \\\n",
       "0 2019-08-01  23              142779           17               \n",
       "1 2019-08-02  19              91602            23               \n",
       "2 2019-08-03  24              112473           14               \n",
       "3 2019-08-04  11              41176            14               \n",
       "4 2019-08-05  22              86383            21               \n",
       "\n",
       "   revenuePerDateB  ordersCummulativeA  revenueCummulativeA  \\\n",
       "0  59758            23                  142779                \n",
       "1  162043           42                  234381                \n",
       "2  67049            66                  346854                \n",
       "3  96890            77                  388030                \n",
       "4  89908            99                  474413                \n",
       "\n",
       "   ordersCummulativeB  revenueCummulativeB  visitorsPerDateA  \\\n",
       "0  17                  59758                719                \n",
       "1  40                  221801               619                \n",
       "2  54                  288850               507                \n",
       "3  68                  385740               717                \n",
       "4  89                  475648               756                \n",
       "\n",
       "   visitorsPerDateB  visitorsCummulativeA  visitorsCummulativeB  \n",
       "0  713               719                   713                   \n",
       "1  581               1338                  1294                  \n",
       "2  509               1845                  1803                  \n",
       "3  770               2562                  2573                  \n",
       "4  707               3318                  3280                  "
      ]
     },
     "execution_count": 70,
     "metadata": {},
     "output_type": "execute_result"
    }
   ],
   "source": [
    "data = ordersADaily.merge(ordersBDaily, left_on='date', right_on='date', how='left')\\\n",
    "    .merge(ordersACummulative, left_on='date', right_on='date', how='left')\\\n",
    "    .merge(ordersBCummulative, left_on='date', right_on='date', how='left')\\\n",
    "    .merge(visitorsADaily, left_on='date', right_on='date', how='left')\\\n",
    "    .merge(visitorsBDaily, left_on='date', right_on='date', how='left')\\\n",
    "    .merge(visitorsACummulative, left_on='date', right_on='date', how='left')\\\n",
    "    .merge(visitorsBCummulative, left_on='date', right_on='date', how='left')\n",
    "data.head(5)"
   ]
  },
  {
   "cell_type": "markdown",
   "metadata": {},
   "source": [
    "- Применим критерий и отформатируем p-value, округлив его до трёх знаков после запятой.\n",
    "- В sampleA сохраним выборку, где каждый элемент — число заказов определённого пользователя, в том числе ноль. Значит, число элементов sampleA — это количество пользователей, сумма всех элементов — количество заказов. Чтобы получить конверсию в группе, поделим сумму заказов на число пользователей — найдём среднее в выборке sampleA методом mean(). Аналогично найдём конверсию группы B: SampleB.mean().\n",
    "\n",
    "- Выведем относительный прирост конверсии группы B: конверсия группы B / конверсия группы A - 1. Округлим до трёх знаков после запятой (критический уровень статистической значимости возьмём равным 5% (0.05)).\n",
    "\n",
    "***Н0 - \"Статистически значимых различий в конверсии между группами нет\"***\n",
    "\n",
    "***Н1 - \"Статистически значимые различия есть.\"***"
   ]
  },
  {
   "cell_type": "code",
   "execution_count": 71,
   "metadata": {},
   "outputs": [
    {
     "name": "stdout",
     "output_type": "stream",
     "text": [
      "alpha = 0.05\n",
      "p-value = 0.011\n",
      "Относительный показатель 'группы B' и 'группы A' = 0.160\n"
     ]
    }
   ],
   "source": [
    "ordersByUsersA = orders[orders['group']=='A'].groupby('visitorId', as_index=False).agg({'transactionId' : pd.Series.nunique})\n",
    "ordersByUsersA.columns = ['userId', 'orders']\n",
    "\n",
    "ordersByUsersB = orders[orders['group']=='B'].groupby('visitorId', as_index=False).agg({'transactionId' : pd.Series.nunique})\n",
    "ordersByUsersB.columns = ['userId', 'orders']\n",
    "\n",
    "sampleA = pd.concat([ordersByUsersA['orders'],pd.Series(0, index=np.arange(data['visitorsPerDateA'].sum() - len(ordersByUsersA['orders'])), name='orders')],axis=0)\n",
    "\n",
    "sampleB = pd.concat([ordersByUsersB['orders'],pd.Series(0, index=np.arange(data['visitorsPerDateB'].sum() - len(ordersByUsersB['orders'])), name='orders')],axis=0)\n",
    "\n",
    "print(\"alpha =\",0.05)\n",
    "print(\"p-value = {0:.3f}\".format(stats.mannwhitneyu(sampleA, sampleB, alternative = 'two-sided')[1]))\n",
    "print(\"Относительный показатель 'группы B' и 'группы A' = {0:.3f}\".format(sampleB.mean()/sampleA.mean()-1)) "
   ]
  },
  {
   "cell_type": "markdown",
   "metadata": {},
   "source": [
    "***ВЫВОД***\n",
    "\n",
    "***p-value = 0.011 меньше 0.05. Значит, нулевую гипотезу о том, что статистически значимых различий в конверсии между группами нет, - отвергаем. Это значит: по «сырым» данным различия в конверсии групп A и B есть. А относительный выигрыш группы B над A равен 16%***"
   ]
  },
  {
   "cell_type": "markdown",
   "metadata": {},
   "source": [
    "***2.11.Посчитайте статистическую значимость различий в среднем чеке заказа между группами по «сырым» данным.\n",
    "Сделайте выводы и предположения***"
   ]
  },
  {
   "cell_type": "markdown",
   "metadata": {},
   "source": [
    "- Чтобы рассчитать статистическую значимость различий в среднем чеке между группами, передадим критерию mannwhitneyu() (U-тест Манна-Уитни) данные о выручке с заказов  (критический уровень статистической значимости возьмём равным 5% (0.05)). И найдём относительные различия в среднем чеке между группами.\n",
    "\n",
    "***Н0 - \"Статистически значимых различий в средних чеках между группами нет\"***\n",
    "\n",
    "***Н1 - \"Статистически значимые различия есть\"***"
   ]
  },
  {
   "cell_type": "code",
   "execution_count": 72,
   "metadata": {},
   "outputs": [
    {
     "name": "stdout",
     "output_type": "stream",
     "text": [
      "alpha = 0.05\n",
      "p-value = 0.829\n",
      "Относительный показатель 'B' и 'A' = 0.287\n"
     ]
    }
   ],
   "source": [
    "print(\"alpha =\",0.05)\n",
    "print(\"p-value = {0:.3f}\".format(stats.mannwhitneyu(orders[orders['group']=='A']['revenue'], orders[orders['group']=='B']['revenue'], alternative = 'two-sided')[1]))\n",
    "print(\"Относительный показатель 'B' и 'A' = {0:.3f}\".format(orders[orders['group']=='B']['revenue'].mean()/orders[orders['group']=='A']['revenue'].mean()-1)) "
   ]
  },
  {
   "cell_type": "markdown",
   "metadata": {},
   "source": [
    "***ВЫВОД***\n",
    "\n",
    "***P-value больше 0.05. Значит, причин отвергать нулевую гипотезу и считать, что в среднем чеке есть различия, нет. То есть средние чеки по \"сырым\" данным схожи, наблюдаемое различите в 28,7% не является статистически значимым и не служит осннованием для того, чтобы отвергнуть нулевую гипотезу.***"
   ]
  },
  {
   "cell_type": "markdown",
   "metadata": {},
   "source": [
    "***2.12.Посчитайте статистическую значимость различий в конверсии между группами по «очищенным» данным. Сделайте выводы и предположения***"
   ]
  },
  {
   "cell_type": "markdown",
   "metadata": {},
   "source": [
    "- Вспомним - из предыдущих пунктов мы приняли за аномальных пользователей тех, кто совершил 3 и больше заказов или совершил заказ дороже 53904 рублей. Сделаем срезы пользователей с числом заказов больше 2 — usersWithManyOrders и пользователей, совершивших заказы дороже 53904 — usersWithExpensiveOrders. Объединим их в таблице abnormalUsers"
   ]
  },
  {
   "cell_type": "code",
   "execution_count": 75,
   "metadata": {},
   "outputs": [
    {
     "name": "stdout",
     "output_type": "stream",
     "text": [
      "1099    148427295\n",
      "33      249864742\n",
      "58      611059232\n",
      "949     887908475\n",
      "744     888512513\n",
      "dtype: int64\n",
      "число аномальных пользователей: 16\n"
     ]
    }
   ],
   "source": [
    "revenue_lim = np.percentile(orders['revenue'], 99)\n",
    "usersWithManyOrders = pd.concat([ordersByUsersA[ordersByUsersA['orders'] > 2]['userId'], ordersByUsersB[ordersByUsersB['orders'] > 2]['userId']], axis = 0)\n",
    "usersWithExpensiveOrders = orders[orders['revenue'] > revenue_lim]['visitorId']\n",
    "abnormalUsers = pd.concat([usersWithManyOrders, usersWithExpensiveOrders], axis = 0).drop_duplicates().sort_values()\n",
    "print(abnormalUsers.head(5))\n",
    "print ('число аномальных пользователей:', len(abnormalUsers))"
   ]
  },
  {
   "cell_type": "markdown",
   "metadata": {},
   "source": [
    "- Узнаем, как их действия повлияли на результаты теста. Посчитаем статистическую значимость различий в конверсии между группами теста по \"очищенным\" данным. Сначала подготовим выборки количества заказов по пользователям по группам теста:"
   ]
  },
  {
   "cell_type": "code",
   "execution_count": 76,
   "metadata": {},
   "outputs": [],
   "source": [
    "sampleAFiltered = pd.concat([ordersByUsersA[np.logical_not(ordersByUsersA['userId'].isin(abnormalUsers))]['orders'], \\\n",
    "                             pd.Series(0, index=np.arange(data['visitorsPerDateA'].sum() - len(ordersByUsersA['orders'])), \\\n",
    "                                       name='orders')],axis=0)\n",
    "\n",
    "sampleBFiltered = pd.concat([ordersByUsersB[np.logical_not(ordersByUsersB['userId'].isin(abnormalUsers))]['orders'], \\\n",
    "                             pd.Series(0, index=np.arange(data['visitorsPerDateB'].sum() - len(ordersByUsersB['orders'])), \\\n",
    "                                       name='orders')],axis=0)"
   ]
  },
  {
   "cell_type": "markdown",
   "metadata": {},
   "source": [
    "***Применим статистический критерий Манна-Уитни к полученным выборкам***\n",
    "\n",
    "***H0 - \"Cтатистически значимых различий в конверсии между группами нет\"***\n",
    "\n",
    "***H1\"статистически значимые различия есть\"***\n",
    "\n",
    "- Критический уровень статистической значимости возьмём равным alpha = 5% (0.05)"
   ]
  },
  {
   "cell_type": "code",
   "execution_count": 77,
   "metadata": {},
   "outputs": [
    {
     "name": "stdout",
     "output_type": "stream",
     "text": [
      "alpha = 0.05\n",
      "p-value = 0.007\n",
      "Относительный показатель 'Группа B' и 'Группа A' = 0.189\n"
     ]
    }
   ],
   "source": [
    "print(\"alpha =\",0.05)\n",
    "print(\"p-value = {0:.3f}\".format(stats.mannwhitneyu(sampleAFiltered, sampleBFiltered, alternative = 'two-sided')[1]))\n",
    "print(\"Относительный показатель 'Группа B' и 'Группа A' = {0:.3f}\".format(sampleBFiltered.mean()/sampleAFiltered.mean()-1))"
   ]
  },
  {
   "cell_type": "markdown",
   "metadata": {},
   "source": [
    "***ВЫВОД***\n",
    "\n",
    "***p-value = 0.01 меньше 0.05. Значит, нулевую гипотезу о том, что статистически значимых различий в конверсии между группами нет, - отвергаем. Это значит что по «очищенным» данным различия в конверсии групп A и B есть. А относительный выигрыш Группы B над Группой A равен 18,9% и он выше, чем с «сырыми» данными - 16%***"
   ]
  },
  {
   "cell_type": "markdown",
   "metadata": {},
   "source": [
    "***2.13.\tПосчитайте статистическую значимость различий в среднем чеке заказа между группами по «очищенным» данным. Сделайте выводы и предположения***"
   ]
  },
  {
   "cell_type": "markdown",
   "metadata": {},
   "source": [
    "***Теперь посмотрим произошло ли что-нибудь с результатами по среднему чеку?***\n",
    "\n",
    "***H0 - \"статистически значимых различий в средних чеках между группами нет\"***\n",
    "\n",
    "***H1 - \"статистически значимые различия есть\"***\n",
    "\n",
    "- Критический уровень статистической значимости возьмём равным alpha = 5% (0.05)"
   ]
  },
  {
   "cell_type": "code",
   "execution_count": 78,
   "metadata": {},
   "outputs": [
    {
     "name": "stdout",
     "output_type": "stream",
     "text": [
      "alpha = 0.05\n",
      "p-value = 0.788\n",
      "Относительный показатель 'Группа B' и 'Группа A' = -0.032\n"
     ]
    }
   ],
   "source": [
    "print(\"alpha =\",0.05)\n",
    "print(\"p-value = {0:.3f}\".format(stats.mannwhitneyu(\n",
    "    orders[np.logical_and(\n",
    "        orders['group']=='A',\n",
    "        np.logical_not(orders['visitorId'].isin(abnormalUsers)))]['revenue'],\n",
    "    orders[np.logical_and(\n",
    "        orders['group']=='B',\n",
    "        np.logical_not(orders['visitorId'].isin(abnormalUsers)))]['revenue'], alternative = 'two-sided')[1]))\n",
    "\n",
    "print(\"Относительный показатель 'Группа B' и 'Группа A' = {0:.3f}\".format(\n",
    "    orders[np.logical_and(orders['group']=='B',np.logical_not(orders['visitorId'].isin(abnormalUsers)))]['revenue'].mean()/\n",
    "    orders[np.logical_and(\n",
    "        orders['group']=='A',\n",
    "        np.logical_not(orders['visitorId'].isin(abnormalUsers)))]['revenue'].mean() - 1))"
   ]
  },
  {
   "cell_type": "markdown",
   "metadata": {},
   "source": [
    "***ВЫВОД***\n",
    "\n",
    "***P-value  больше 0.05. Значит, причин отвергать нулевую гипотезу и считать, что в среднем чеке есть различия - нет (как и по \"Сырым\" данными). А вот средний чек группы B по \"очищенным\" данным оказался незначительно (на 3,2%) ниже среднего чека группы A, в то время как по \"сырым\" данным, он был больше на ~28,7%, - и всё это из-за одного того самого аномального заказа №425 на 1,3 млн***"
   ]
  },
  {
   "cell_type": "markdown",
   "metadata": {},
   "source": [
    "***2.14.\tПримите решение по результатам теста и объясните его. Варианты решений: 1. Остановить тест, зафиксировать победу одной из групп. 2. Остановить тест, зафиксировать отсутствие различий между группами. 3. Продолжить тест.***"
   ]
  },
  {
   "cell_type": "markdown",
   "metadata": {},
   "source": [
    "***ВЫВОД***\n",
    "\n",
    "***По результатам тестирования было выявлено:***\n",
    "\n",
    "- И по \"сырым\" и по \"очищенным\" данным различия в конверсии групп A и B есть. Относительный выигрыш Группы B над Группой A равен 18% по \"очищенным\" и 16.9% по \"сырым\" данным.\n",
    "\n",
    "- Оказалось, что и по \"сырым\" и по \"очищенным\" данным различия в средних чеках Групп A и B отстутствуют, несмотря на то, что средний чек Группы B оказался незначительно (на 3,2%) ниже среднего чека Группы A по \"очищенным\" данным, в то время как по \"сырым\" данным, он был больше на ~28,7%, - и всё это из-за одного того самого аномального заказа №425 на 1,3 млн ! Всё логично, аномальный заказ убрали и чеки сравнялись.\n",
    "\n",
    "***Результаты тестирования вполне однозначны.***\n",
    "\n",
    "- В итоге можно принять решение остановить тестирование и констатировать успех и победу Группы B : Группа B значительно лучше, эффективнее, Группы A по конверсии, хотя по среднему чеку Группы примерно равны."
   ]
  }
 ],
 "metadata": {
  "ExecuteTimeLog": [
   {
    "duration": 1572,
    "start_time": "2022-11-30T11:39:23.413Z"
   },
   {
    "duration": 50,
    "start_time": "2022-11-30T11:52:34.219Z"
   },
   {
    "duration": 66,
    "start_time": "2022-11-30T11:54:18.748Z"
   },
   {
    "duration": 65,
    "start_time": "2022-11-30T11:55:47.028Z"
   },
   {
    "duration": 315,
    "start_time": "2022-11-30T11:56:54.795Z"
   },
   {
    "duration": 223,
    "start_time": "2022-11-30T11:57:06.326Z"
   },
   {
    "duration": 13,
    "start_time": "2022-11-30T11:59:45.644Z"
   },
   {
    "duration": 3,
    "start_time": "2022-11-30T12:03:55.990Z"
   },
   {
    "duration": 11,
    "start_time": "2022-11-30T12:04:00.179Z"
   },
   {
    "duration": 13,
    "start_time": "2022-11-30T12:05:13.596Z"
   },
   {
    "duration": 11,
    "start_time": "2022-11-30T12:06:05.255Z"
   },
   {
    "duration": 1275,
    "start_time": "2022-11-30T12:37:05.150Z"
   },
   {
    "duration": 763,
    "start_time": "2022-11-30T12:37:54.564Z"
   },
   {
    "duration": 4,
    "start_time": "2022-11-30T12:47:50.899Z"
   },
   {
    "duration": 8,
    "start_time": "2022-11-30T12:47:58.810Z"
   },
   {
    "duration": 3,
    "start_time": "2022-11-30T12:49:04.376Z"
   },
   {
    "duration": 8,
    "start_time": "2022-11-30T12:49:09.275Z"
   },
   {
    "duration": 917,
    "start_time": "2022-11-30T12:50:06.872Z"
   },
   {
    "duration": 13,
    "start_time": "2022-11-30T12:50:24.408Z"
   },
   {
    "duration": 8,
    "start_time": "2022-11-30T12:50:55.913Z"
   },
   {
    "duration": 3,
    "start_time": "2022-11-30T12:54:37.027Z"
   },
   {
    "duration": 11,
    "start_time": "2022-11-30T12:54:51.149Z"
   },
   {
    "duration": 3,
    "start_time": "2022-11-30T12:56:05.308Z"
   },
   {
    "duration": 10,
    "start_time": "2022-11-30T12:56:13.493Z"
   },
   {
    "duration": 4,
    "start_time": "2022-11-30T13:06:12.602Z"
   },
   {
    "duration": 12,
    "start_time": "2022-11-30T13:06:18.920Z"
   },
   {
    "duration": 57,
    "start_time": "2022-12-01T08:57:12.319Z"
   },
   {
    "duration": 1619,
    "start_time": "2022-12-01T08:57:58.481Z"
   },
   {
    "duration": 4,
    "start_time": "2022-12-01T08:58:00.102Z"
   },
   {
    "duration": 32,
    "start_time": "2022-12-01T08:58:00.107Z"
   },
   {
    "duration": 9,
    "start_time": "2022-12-01T08:58:00.141Z"
   },
   {
    "duration": 22,
    "start_time": "2022-12-01T08:58:00.152Z"
   },
   {
    "duration": 18,
    "start_time": "2022-12-01T08:58:00.176Z"
   },
   {
    "duration": 23,
    "start_time": "2022-12-01T08:58:00.196Z"
   },
   {
    "duration": 38,
    "start_time": "2022-12-01T08:58:00.221Z"
   },
   {
    "duration": 21,
    "start_time": "2022-12-01T08:58:00.260Z"
   },
   {
    "duration": 198,
    "start_time": "2022-12-01T08:58:00.283Z"
   },
   {
    "duration": 28,
    "start_time": "2022-12-01T09:01:28.944Z"
   },
   {
    "duration": 295,
    "start_time": "2022-12-01T09:03:55.698Z"
   },
   {
    "duration": 7,
    "start_time": "2022-12-01T09:10:45.099Z"
   },
   {
    "duration": 12,
    "start_time": "2022-12-01T09:20:38.675Z"
   },
   {
    "duration": 11,
    "start_time": "2022-12-01T09:26:44.821Z"
   },
   {
    "duration": 7,
    "start_time": "2022-12-01T09:33:34.007Z"
   },
   {
    "duration": 14,
    "start_time": "2022-12-01T09:43:46.955Z"
   },
   {
    "duration": 7,
    "start_time": "2022-12-01T09:46:57.821Z"
   },
   {
    "duration": 7,
    "start_time": "2022-12-01T09:47:48.375Z"
   },
   {
    "duration": 5,
    "start_time": "2022-12-01T09:54:26.411Z"
   },
   {
    "duration": 9,
    "start_time": "2022-12-01T10:08:39.955Z"
   },
   {
    "duration": 9,
    "start_time": "2022-12-01T10:08:51.872Z"
   },
   {
    "duration": 328,
    "start_time": "2022-12-01T10:13:04.907Z"
   },
   {
    "duration": 12,
    "start_time": "2022-12-01T10:17:37.518Z"
   },
   {
    "duration": 15,
    "start_time": "2022-12-01T10:17:40.071Z"
   },
   {
    "duration": 12,
    "start_time": "2022-12-01T10:18:07.816Z"
   },
   {
    "duration": 13,
    "start_time": "2022-12-01T10:18:17.898Z"
   },
   {
    "duration": 9,
    "start_time": "2022-12-01T10:18:26.190Z"
   },
   {
    "duration": 6,
    "start_time": "2022-12-01T10:19:04.086Z"
   },
   {
    "duration": 1326,
    "start_time": "2022-12-01T10:19:19.474Z"
   },
   {
    "duration": 3,
    "start_time": "2022-12-01T10:19:20.802Z"
   },
   {
    "duration": 15,
    "start_time": "2022-12-01T10:19:20.807Z"
   },
   {
    "duration": 13,
    "start_time": "2022-12-01T10:19:20.824Z"
   },
   {
    "duration": 3,
    "start_time": "2022-12-01T10:19:20.840Z"
   },
   {
    "duration": 28,
    "start_time": "2022-12-01T10:19:20.845Z"
   },
   {
    "duration": 17,
    "start_time": "2022-12-01T10:19:20.875Z"
   },
   {
    "duration": 19,
    "start_time": "2022-12-01T10:19:20.894Z"
   },
   {
    "duration": 17,
    "start_time": "2022-12-01T10:19:20.914Z"
   },
   {
    "duration": 43,
    "start_time": "2022-12-01T10:19:20.933Z"
   },
   {
    "duration": 18,
    "start_time": "2022-12-01T10:19:20.978Z"
   },
   {
    "duration": 14,
    "start_time": "2022-12-01T10:19:20.998Z"
   },
   {
    "duration": 29,
    "start_time": "2022-12-01T10:19:21.013Z"
   },
   {
    "duration": 8,
    "start_time": "2022-12-01T10:19:21.045Z"
   },
   {
    "duration": 18,
    "start_time": "2022-12-01T10:19:21.055Z"
   },
   {
    "duration": 17,
    "start_time": "2022-12-01T10:19:21.076Z"
   },
   {
    "duration": 18,
    "start_time": "2022-12-01T10:19:21.095Z"
   },
   {
    "duration": 15,
    "start_time": "2022-12-01T10:19:21.115Z"
   },
   {
    "duration": 520,
    "start_time": "2022-12-01T10:19:21.131Z"
   },
   {
    "duration": 1,
    "start_time": "2022-12-01T10:19:21.652Z"
   },
   {
    "duration": 0,
    "start_time": "2022-12-01T10:19:21.654Z"
   },
   {
    "duration": 6,
    "start_time": "2022-12-01T10:24:24.975Z"
   },
   {
    "duration": 8,
    "start_time": "2022-12-01T10:24:26.806Z"
   },
   {
    "duration": 1320,
    "start_time": "2022-12-01T10:24:39.683Z"
   },
   {
    "duration": 3,
    "start_time": "2022-12-01T10:24:41.005Z"
   },
   {
    "duration": 32,
    "start_time": "2022-12-01T10:24:41.010Z"
   },
   {
    "duration": 14,
    "start_time": "2022-12-01T10:24:41.044Z"
   },
   {
    "duration": 5,
    "start_time": "2022-12-01T10:24:41.059Z"
   },
   {
    "duration": 19,
    "start_time": "2022-12-01T10:24:41.066Z"
   },
   {
    "duration": 27,
    "start_time": "2022-12-01T10:24:41.086Z"
   },
   {
    "duration": 22,
    "start_time": "2022-12-01T10:24:41.115Z"
   },
   {
    "duration": 17,
    "start_time": "2022-12-01T10:24:41.138Z"
   },
   {
    "duration": 26,
    "start_time": "2022-12-01T10:24:41.159Z"
   },
   {
    "duration": 15,
    "start_time": "2022-12-01T10:24:41.187Z"
   },
   {
    "duration": 12,
    "start_time": "2022-12-01T10:24:41.203Z"
   },
   {
    "duration": 12,
    "start_time": "2022-12-01T10:24:41.217Z"
   },
   {
    "duration": 6,
    "start_time": "2022-12-01T10:24:41.231Z"
   },
   {
    "duration": 17,
    "start_time": "2022-12-01T10:24:41.239Z"
   },
   {
    "duration": 17,
    "start_time": "2022-12-01T10:24:41.258Z"
   },
   {
    "duration": 7,
    "start_time": "2022-12-01T10:24:41.277Z"
   },
   {
    "duration": 24,
    "start_time": "2022-12-01T10:24:41.286Z"
   },
   {
    "duration": 18,
    "start_time": "2022-12-01T10:24:41.312Z"
   },
   {
    "duration": 325,
    "start_time": "2022-12-01T10:24:41.332Z"
   },
   {
    "duration": 7,
    "start_time": "2022-12-01T10:24:41.658Z"
   },
   {
    "duration": 314,
    "start_time": "2022-12-01T10:24:41.666Z"
   },
   {
    "duration": 10,
    "start_time": "2022-12-01T10:34:24.307Z"
   },
   {
    "duration": 17,
    "start_time": "2022-12-01T10:35:23.921Z"
   },
   {
    "duration": 234,
    "start_time": "2022-12-01T10:37:33.916Z"
   },
   {
    "duration": 12,
    "start_time": "2022-12-01T12:58:09.526Z"
   },
   {
    "duration": 14,
    "start_time": "2022-12-01T12:58:52.314Z"
   },
   {
    "duration": 21,
    "start_time": "2022-12-01T13:01:07.362Z"
   },
   {
    "duration": 181,
    "start_time": "2022-12-01T13:04:38.315Z"
   },
   {
    "duration": 25,
    "start_time": "2022-12-01T13:05:40.156Z"
   },
   {
    "duration": 325,
    "start_time": "2022-12-01T13:12:08.605Z"
   },
   {
    "duration": 340,
    "start_time": "2022-12-01T13:36:39.162Z"
   },
   {
    "duration": 25,
    "start_time": "2022-12-01T13:45:09.961Z"
   },
   {
    "duration": 21,
    "start_time": "2022-12-01T13:47:42.581Z"
   },
   {
    "duration": 19,
    "start_time": "2022-12-01T13:48:43.793Z"
   },
   {
    "duration": 61,
    "start_time": "2022-12-01T14:30:06.727Z"
   },
   {
    "duration": 1814,
    "start_time": "2022-12-01T14:30:47.419Z"
   },
   {
    "duration": 4,
    "start_time": "2022-12-01T14:30:49.236Z"
   },
   {
    "duration": 25,
    "start_time": "2022-12-01T14:30:49.242Z"
   },
   {
    "duration": 29,
    "start_time": "2022-12-01T14:30:49.269Z"
   },
   {
    "duration": 7,
    "start_time": "2022-12-01T14:30:49.301Z"
   },
   {
    "duration": 15,
    "start_time": "2022-12-01T14:30:49.309Z"
   },
   {
    "duration": 16,
    "start_time": "2022-12-01T14:30:49.326Z"
   },
   {
    "duration": 24,
    "start_time": "2022-12-01T14:30:49.344Z"
   },
   {
    "duration": 22,
    "start_time": "2022-12-01T14:30:49.370Z"
   },
   {
    "duration": 21,
    "start_time": "2022-12-01T14:30:49.394Z"
   },
   {
    "duration": 15,
    "start_time": "2022-12-01T14:30:49.418Z"
   },
   {
    "duration": 24,
    "start_time": "2022-12-01T14:30:49.435Z"
   },
   {
    "duration": 20,
    "start_time": "2022-12-01T14:30:49.461Z"
   },
   {
    "duration": 10,
    "start_time": "2022-12-01T14:30:49.485Z"
   },
   {
    "duration": 20,
    "start_time": "2022-12-01T14:30:49.497Z"
   },
   {
    "duration": 16,
    "start_time": "2022-12-01T14:30:49.519Z"
   },
   {
    "duration": 19,
    "start_time": "2022-12-01T14:30:49.537Z"
   },
   {
    "duration": 19,
    "start_time": "2022-12-01T14:30:49.558Z"
   },
   {
    "duration": 19,
    "start_time": "2022-12-01T14:30:49.580Z"
   },
   {
    "duration": 13,
    "start_time": "2022-12-01T14:30:49.601Z"
   },
   {
    "duration": 358,
    "start_time": "2022-12-01T14:30:49.615Z"
   },
   {
    "duration": 7,
    "start_time": "2022-12-01T14:30:49.975Z"
   },
   {
    "duration": 328,
    "start_time": "2022-12-01T14:30:49.984Z"
   },
   {
    "duration": 12,
    "start_time": "2022-12-01T14:30:50.313Z"
   },
   {
    "duration": 39,
    "start_time": "2022-12-01T14:30:50.327Z"
   },
   {
    "duration": 246,
    "start_time": "2022-12-01T14:30:50.368Z"
   },
   {
    "duration": 431,
    "start_time": "2022-12-01T14:30:50.615Z"
   },
   {
    "duration": 12,
    "start_time": "2022-12-01T14:33:16.548Z"
   },
   {
    "duration": 15,
    "start_time": "2022-12-01T14:39:15.666Z"
   },
   {
    "duration": 23,
    "start_time": "2022-12-01T14:41:43.635Z"
   },
   {
    "duration": 57,
    "start_time": "2022-12-01T14:43:46.317Z"
   },
   {
    "duration": 47,
    "start_time": "2022-12-01T14:44:02.472Z"
   },
   {
    "duration": 19,
    "start_time": "2022-12-01T14:44:13.784Z"
   },
   {
    "duration": 242,
    "start_time": "2022-12-01T14:49:27.564Z"
   },
   {
    "duration": 260,
    "start_time": "2022-12-01T14:50:02.261Z"
   },
   {
    "duration": 83,
    "start_time": "2022-12-01T17:04:06.559Z"
   },
   {
    "duration": 13,
    "start_time": "2022-12-01T17:05:41.925Z"
   },
   {
    "duration": 14,
    "start_time": "2022-12-01T17:05:48.965Z"
   },
   {
    "duration": 1784,
    "start_time": "2022-12-01T17:08:10.696Z"
   },
   {
    "duration": 3,
    "start_time": "2022-12-01T17:08:12.483Z"
   },
   {
    "duration": 19,
    "start_time": "2022-12-01T17:08:12.488Z"
   },
   {
    "duration": 14,
    "start_time": "2022-12-01T17:08:12.509Z"
   },
   {
    "duration": 4,
    "start_time": "2022-12-01T17:08:12.525Z"
   },
   {
    "duration": 15,
    "start_time": "2022-12-01T17:08:12.531Z"
   },
   {
    "duration": 15,
    "start_time": "2022-12-01T17:08:12.548Z"
   },
   {
    "duration": 20,
    "start_time": "2022-12-01T17:08:12.565Z"
   },
   {
    "duration": 36,
    "start_time": "2022-12-01T17:08:12.587Z"
   },
   {
    "duration": 16,
    "start_time": "2022-12-01T17:08:12.625Z"
   },
   {
    "duration": 11,
    "start_time": "2022-12-01T17:08:12.642Z"
   },
   {
    "duration": 6,
    "start_time": "2022-12-01T17:08:12.655Z"
   },
   {
    "duration": 49,
    "start_time": "2022-12-01T17:08:12.663Z"
   },
   {
    "duration": 5,
    "start_time": "2022-12-01T17:08:12.714Z"
   },
   {
    "duration": 11,
    "start_time": "2022-12-01T17:08:12.721Z"
   },
   {
    "duration": 12,
    "start_time": "2022-12-01T17:08:12.734Z"
   },
   {
    "duration": 8,
    "start_time": "2022-12-01T17:08:12.748Z"
   },
   {
    "duration": 14,
    "start_time": "2022-12-01T17:08:12.757Z"
   },
   {
    "duration": 14,
    "start_time": "2022-12-01T17:08:12.812Z"
   },
   {
    "duration": 9,
    "start_time": "2022-12-01T17:08:12.827Z"
   },
   {
    "duration": 12,
    "start_time": "2022-12-01T17:08:12.838Z"
   },
   {
    "duration": 57,
    "start_time": "2022-12-01T17:08:12.855Z"
   },
   {
    "duration": 19,
    "start_time": "2022-12-01T17:08:12.915Z"
   },
   {
    "duration": 373,
    "start_time": "2022-12-01T17:08:12.937Z"
   },
   {
    "duration": 7,
    "start_time": "2022-12-01T17:08:13.312Z"
   },
   {
    "duration": 336,
    "start_time": "2022-12-01T17:08:13.321Z"
   },
   {
    "duration": 11,
    "start_time": "2022-12-01T17:08:13.659Z"
   },
   {
    "duration": 39,
    "start_time": "2022-12-01T17:08:13.673Z"
   },
   {
    "duration": 247,
    "start_time": "2022-12-01T17:08:13.714Z"
   },
   {
    "duration": 403,
    "start_time": "2022-12-01T17:08:13.963Z"
   },
   {
    "duration": 289,
    "start_time": "2022-12-01T17:08:14.368Z"
   },
   {
    "duration": 364,
    "start_time": "2022-12-01T17:08:14.659Z"
   },
   {
    "duration": 371,
    "start_time": "2022-12-01T17:08:46.388Z"
   },
   {
    "duration": 410,
    "start_time": "2022-12-01T17:10:11.678Z"
   },
   {
    "duration": 336,
    "start_time": "2022-12-01T17:11:59.326Z"
   },
   {
    "duration": 449,
    "start_time": "2022-12-01T17:14:38.558Z"
   },
   {
    "duration": 392,
    "start_time": "2022-12-01T17:18:06.241Z"
   },
   {
    "duration": 132,
    "start_time": "2022-12-01T18:23:50.061Z"
   },
   {
    "duration": 10,
    "start_time": "2022-12-01T18:24:14.732Z"
   },
   {
    "duration": 187,
    "start_time": "2022-12-01T18:25:41.610Z"
   },
   {
    "duration": 223,
    "start_time": "2022-12-01T18:27:20.051Z"
   },
   {
    "duration": 5,
    "start_time": "2022-12-01T18:38:41.888Z"
   },
   {
    "duration": 168,
    "start_time": "2022-12-01T18:45:35.479Z"
   },
   {
    "duration": 7,
    "start_time": "2022-12-01T18:51:39.951Z"
   },
   {
    "duration": 9,
    "start_time": "2022-12-01T19:00:59.284Z"
   },
   {
    "duration": 9,
    "start_time": "2022-12-01T19:01:03.843Z"
   },
   {
    "duration": 198,
    "start_time": "2022-12-01T19:02:22.672Z"
   },
   {
    "duration": 29,
    "start_time": "2022-12-01T19:04:27.808Z"
   },
   {
    "duration": 30,
    "start_time": "2022-12-01T19:04:37.765Z"
   },
   {
    "duration": 166,
    "start_time": "2022-12-01T19:11:41.139Z"
   },
   {
    "duration": 173,
    "start_time": "2022-12-01T19:22:07.597Z"
   },
   {
    "duration": 14,
    "start_time": "2022-12-01T19:34:38.012Z"
   },
   {
    "duration": 12,
    "start_time": "2022-12-01T19:51:22.244Z"
   },
   {
    "duration": 11,
    "start_time": "2022-12-01T19:53:01.943Z"
   },
   {
    "duration": 14,
    "start_time": "2022-12-01T19:56:31.560Z"
   },
   {
    "duration": 9,
    "start_time": "2022-12-01T19:56:59.657Z"
   },
   {
    "duration": 8,
    "start_time": "2022-12-01T20:22:31.798Z"
   },
   {
    "duration": 30,
    "start_time": "2022-12-01T20:32:57.507Z"
   },
   {
    "duration": 24,
    "start_time": "2022-12-01T20:33:42.724Z"
   },
   {
    "duration": 14,
    "start_time": "2022-12-01T20:46:09.233Z"
   },
   {
    "duration": 14,
    "start_time": "2022-12-01T20:46:42.144Z"
   },
   {
    "duration": 1423,
    "start_time": "2022-12-01T20:58:25.038Z"
   },
   {
    "duration": 4,
    "start_time": "2022-12-01T20:58:26.465Z"
   },
   {
    "duration": 35,
    "start_time": "2022-12-01T20:58:26.471Z"
   },
   {
    "duration": 36,
    "start_time": "2022-12-01T20:58:26.508Z"
   },
   {
    "duration": 20,
    "start_time": "2022-12-01T20:58:26.548Z"
   },
   {
    "duration": 25,
    "start_time": "2022-12-01T20:58:26.570Z"
   },
   {
    "duration": 34,
    "start_time": "2022-12-01T20:58:26.597Z"
   },
   {
    "duration": 31,
    "start_time": "2022-12-01T20:58:26.633Z"
   },
   {
    "duration": 28,
    "start_time": "2022-12-01T20:58:26.667Z"
   },
   {
    "duration": 49,
    "start_time": "2022-12-01T20:58:26.697Z"
   },
   {
    "duration": 23,
    "start_time": "2022-12-01T20:58:26.749Z"
   },
   {
    "duration": 7,
    "start_time": "2022-12-01T20:58:26.774Z"
   },
   {
    "duration": 30,
    "start_time": "2022-12-01T20:58:26.782Z"
   },
   {
    "duration": 16,
    "start_time": "2022-12-01T20:58:26.821Z"
   },
   {
    "duration": 12,
    "start_time": "2022-12-01T20:58:26.839Z"
   },
   {
    "duration": 15,
    "start_time": "2022-12-01T20:58:26.853Z"
   },
   {
    "duration": 13,
    "start_time": "2022-12-01T20:58:26.870Z"
   },
   {
    "duration": 15,
    "start_time": "2022-12-01T20:58:26.885Z"
   },
   {
    "duration": 16,
    "start_time": "2022-12-01T20:58:26.902Z"
   },
   {
    "duration": 23,
    "start_time": "2022-12-01T20:58:26.919Z"
   },
   {
    "duration": 12,
    "start_time": "2022-12-01T20:58:26.943Z"
   },
   {
    "duration": 16,
    "start_time": "2022-12-01T20:58:26.957Z"
   },
   {
    "duration": 27,
    "start_time": "2022-12-01T20:58:26.975Z"
   },
   {
    "duration": 358,
    "start_time": "2022-12-01T20:58:27.011Z"
   },
   {
    "duration": 6,
    "start_time": "2022-12-01T20:58:27.371Z"
   },
   {
    "duration": 354,
    "start_time": "2022-12-01T20:58:27.379Z"
   },
   {
    "duration": 14,
    "start_time": "2022-12-01T20:58:27.735Z"
   },
   {
    "duration": 25,
    "start_time": "2022-12-01T20:58:27.751Z"
   },
   {
    "duration": 290,
    "start_time": "2022-12-01T20:58:27.777Z"
   },
   {
    "duration": 378,
    "start_time": "2022-12-01T20:58:28.069Z"
   },
   {
    "duration": 277,
    "start_time": "2022-12-01T20:58:28.449Z"
   },
   {
    "duration": 325,
    "start_time": "2022-12-01T20:58:28.727Z"
   },
   {
    "duration": 9,
    "start_time": "2022-12-01T20:58:29.054Z"
   },
   {
    "duration": 154,
    "start_time": "2022-12-01T20:58:29.065Z"
   },
   {
    "duration": 166,
    "start_time": "2022-12-01T20:58:29.222Z"
   },
   {
    "duration": 6,
    "start_time": "2022-12-01T20:58:29.390Z"
   },
   {
    "duration": 196,
    "start_time": "2022-12-01T20:58:29.398Z"
   },
   {
    "duration": 5,
    "start_time": "2022-12-01T20:58:29.595Z"
   },
   {
    "duration": 23,
    "start_time": "2022-12-01T20:58:29.612Z"
   },
   {
    "duration": 16,
    "start_time": "2022-12-01T20:58:29.637Z"
   },
   {
    "duration": 209,
    "start_time": "2022-12-01T20:58:29.657Z"
   },
   {
    "duration": 29,
    "start_time": "2022-12-01T20:58:29.867Z"
   },
   {
    "duration": 188,
    "start_time": "2022-12-01T20:58:29.898Z"
   },
   {
    "duration": 12,
    "start_time": "2022-12-01T20:58:30.088Z"
   },
   {
    "duration": 44,
    "start_time": "2022-12-01T20:58:30.112Z"
   },
   {
    "duration": 39,
    "start_time": "2022-12-01T20:58:30.159Z"
   },
   {
    "duration": 51,
    "start_time": "2022-12-01T20:58:30.200Z"
   },
   {
    "duration": 14,
    "start_time": "2022-12-01T20:58:30.254Z"
   },
   {
    "duration": 222,
    "start_time": "2022-12-01T21:04:13.098Z"
   },
   {
    "duration": 1412,
    "start_time": "2022-12-02T08:43:19.129Z"
   },
   {
    "duration": 3,
    "start_time": "2022-12-02T08:43:20.544Z"
   },
   {
    "duration": 31,
    "start_time": "2022-12-02T08:43:20.548Z"
   },
   {
    "duration": 18,
    "start_time": "2022-12-02T08:43:20.580Z"
   },
   {
    "duration": 7,
    "start_time": "2022-12-02T08:43:20.601Z"
   },
   {
    "duration": 14,
    "start_time": "2022-12-02T08:43:20.609Z"
   },
   {
    "duration": 12,
    "start_time": "2022-12-02T08:43:20.624Z"
   },
   {
    "duration": 20,
    "start_time": "2022-12-02T08:43:20.638Z"
   },
   {
    "duration": 18,
    "start_time": "2022-12-02T08:43:20.660Z"
   },
   {
    "duration": 20,
    "start_time": "2022-12-02T08:43:20.679Z"
   },
   {
    "duration": 23,
    "start_time": "2022-12-02T08:43:20.701Z"
   },
   {
    "duration": 16,
    "start_time": "2022-12-02T08:43:20.726Z"
   },
   {
    "duration": 12,
    "start_time": "2022-12-02T08:43:20.743Z"
   },
   {
    "duration": 22,
    "start_time": "2022-12-02T08:43:20.758Z"
   },
   {
    "duration": 33,
    "start_time": "2022-12-02T08:43:20.782Z"
   },
   {
    "duration": 18,
    "start_time": "2022-12-02T08:43:20.816Z"
   },
   {
    "duration": 10,
    "start_time": "2022-12-02T08:43:20.836Z"
   },
   {
    "duration": 23,
    "start_time": "2022-12-02T08:43:20.847Z"
   },
   {
    "duration": 22,
    "start_time": "2022-12-02T08:43:20.872Z"
   },
   {
    "duration": 13,
    "start_time": "2022-12-02T08:43:20.896Z"
   },
   {
    "duration": 13,
    "start_time": "2022-12-02T08:43:20.911Z"
   },
   {
    "duration": 14,
    "start_time": "2022-12-02T08:43:20.925Z"
   },
   {
    "duration": 34,
    "start_time": "2022-12-02T08:43:20.941Z"
   },
   {
    "duration": 338,
    "start_time": "2022-12-02T08:43:20.976Z"
   },
   {
    "duration": 9,
    "start_time": "2022-12-02T08:43:21.321Z"
   },
   {
    "duration": 323,
    "start_time": "2022-12-02T08:43:21.331Z"
   },
   {
    "duration": 12,
    "start_time": "2022-12-02T08:43:21.656Z"
   },
   {
    "duration": 69,
    "start_time": "2022-12-02T08:43:21.670Z"
   },
   {
    "duration": 220,
    "start_time": "2022-12-02T08:43:21.741Z"
   },
   {
    "duration": 295,
    "start_time": "2022-12-02T08:43:21.963Z"
   },
   {
    "duration": 223,
    "start_time": "2022-12-02T08:43:22.259Z"
   },
   {
    "duration": 304,
    "start_time": "2022-12-02T08:43:22.484Z"
   },
   {
    "duration": 8,
    "start_time": "2022-12-02T08:43:22.789Z"
   },
   {
    "duration": 209,
    "start_time": "2022-12-02T08:43:22.799Z"
   },
   {
    "duration": 141,
    "start_time": "2022-12-02T08:43:23.010Z"
   },
   {
    "duration": 5,
    "start_time": "2022-12-02T08:43:23.163Z"
   },
   {
    "duration": 160,
    "start_time": "2022-12-02T08:43:23.171Z"
   },
   {
    "duration": 5,
    "start_time": "2022-12-02T08:43:23.333Z"
   },
   {
    "duration": 35,
    "start_time": "2022-12-02T08:43:23.340Z"
   },
   {
    "duration": 14,
    "start_time": "2022-12-02T08:43:23.377Z"
   },
   {
    "duration": 195,
    "start_time": "2022-12-02T08:43:23.395Z"
   },
   {
    "duration": 46,
    "start_time": "2022-12-02T08:43:23.592Z"
   },
   {
    "duration": 170,
    "start_time": "2022-12-02T08:43:23.639Z"
   },
   {
    "duration": 18,
    "start_time": "2022-12-02T08:43:23.811Z"
   },
   {
    "duration": 9,
    "start_time": "2022-12-02T08:43:23.831Z"
   },
   {
    "duration": 18,
    "start_time": "2022-12-02T08:43:23.841Z"
   },
   {
    "duration": 31,
    "start_time": "2022-12-02T08:43:23.861Z"
   },
   {
    "duration": 30,
    "start_time": "2022-12-02T08:43:23.894Z"
   },
   {
    "duration": 96,
    "start_time": "2022-12-02T08:47:29.521Z"
   },
   {
    "duration": 50,
    "start_time": "2022-12-02T09:56:45.418Z"
   },
   {
    "duration": 1645,
    "start_time": "2022-12-02T09:57:10.649Z"
   },
   {
    "duration": 3,
    "start_time": "2022-12-02T09:57:12.296Z"
   },
   {
    "duration": 16,
    "start_time": "2022-12-02T09:57:12.301Z"
   },
   {
    "duration": 12,
    "start_time": "2022-12-02T09:57:12.319Z"
   },
   {
    "duration": 3,
    "start_time": "2022-12-02T09:57:12.333Z"
   },
   {
    "duration": 11,
    "start_time": "2022-12-02T09:57:12.338Z"
   },
   {
    "duration": 14,
    "start_time": "2022-12-02T09:57:12.350Z"
   },
   {
    "duration": 14,
    "start_time": "2022-12-02T09:57:12.366Z"
   },
   {
    "duration": 32,
    "start_time": "2022-12-02T09:57:12.382Z"
   },
   {
    "duration": 19,
    "start_time": "2022-12-02T09:57:12.416Z"
   },
   {
    "duration": 11,
    "start_time": "2022-12-02T09:57:12.437Z"
   },
   {
    "duration": 5,
    "start_time": "2022-12-02T09:57:12.449Z"
   },
   {
    "duration": 14,
    "start_time": "2022-12-02T09:57:12.456Z"
   },
   {
    "duration": 7,
    "start_time": "2022-12-02T09:57:12.472Z"
   },
   {
    "duration": 32,
    "start_time": "2022-12-02T09:57:12.481Z"
   },
   {
    "duration": 11,
    "start_time": "2022-12-02T09:57:12.515Z"
   },
   {
    "duration": 8,
    "start_time": "2022-12-02T09:57:12.528Z"
   },
   {
    "duration": 1280,
    "start_time": "2022-12-02T09:57:12.538Z"
   },
   {
    "duration": 0,
    "start_time": "2022-12-02T09:57:13.821Z"
   },
   {
    "duration": 0,
    "start_time": "2022-12-02T09:57:13.822Z"
   },
   {
    "duration": 0,
    "start_time": "2022-12-02T09:57:13.823Z"
   },
   {
    "duration": 0,
    "start_time": "2022-12-02T09:57:13.825Z"
   },
   {
    "duration": 0,
    "start_time": "2022-12-02T09:57:13.826Z"
   },
   {
    "duration": 0,
    "start_time": "2022-12-02T09:57:13.827Z"
   },
   {
    "duration": 0,
    "start_time": "2022-12-02T09:57:13.828Z"
   },
   {
    "duration": 0,
    "start_time": "2022-12-02T09:57:13.829Z"
   },
   {
    "duration": 0,
    "start_time": "2022-12-02T09:57:13.830Z"
   },
   {
    "duration": 0,
    "start_time": "2022-12-02T09:57:13.831Z"
   },
   {
    "duration": 0,
    "start_time": "2022-12-02T09:57:13.832Z"
   },
   {
    "duration": 0,
    "start_time": "2022-12-02T09:57:13.833Z"
   },
   {
    "duration": 0,
    "start_time": "2022-12-02T09:57:13.834Z"
   },
   {
    "duration": 0,
    "start_time": "2022-12-02T09:57:13.835Z"
   },
   {
    "duration": 0,
    "start_time": "2022-12-02T09:57:13.836Z"
   },
   {
    "duration": 0,
    "start_time": "2022-12-02T09:57:13.837Z"
   },
   {
    "duration": 0,
    "start_time": "2022-12-02T09:57:13.839Z"
   },
   {
    "duration": 0,
    "start_time": "2022-12-02T09:57:13.840Z"
   },
   {
    "duration": 0,
    "start_time": "2022-12-02T09:57:13.841Z"
   },
   {
    "duration": 0,
    "start_time": "2022-12-02T09:57:13.842Z"
   },
   {
    "duration": 0,
    "start_time": "2022-12-02T09:57:13.843Z"
   },
   {
    "duration": 0,
    "start_time": "2022-12-02T09:57:13.844Z"
   },
   {
    "duration": 0,
    "start_time": "2022-12-02T09:57:13.845Z"
   },
   {
    "duration": 0,
    "start_time": "2022-12-02T09:57:13.846Z"
   },
   {
    "duration": 0,
    "start_time": "2022-12-02T09:57:13.847Z"
   },
   {
    "duration": 0,
    "start_time": "2022-12-02T09:57:13.848Z"
   },
   {
    "duration": 0,
    "start_time": "2022-12-02T09:57:13.849Z"
   },
   {
    "duration": 0,
    "start_time": "2022-12-02T09:57:13.851Z"
   },
   {
    "duration": 0,
    "start_time": "2022-12-02T09:57:13.852Z"
   },
   {
    "duration": 0,
    "start_time": "2022-12-02T09:57:13.853Z"
   },
   {
    "duration": 0,
    "start_time": "2022-12-02T09:57:13.854Z"
   },
   {
    "duration": 1282,
    "start_time": "2022-12-02T10:05:04.875Z"
   },
   {
    "duration": 3,
    "start_time": "2022-12-02T10:05:06.158Z"
   },
   {
    "duration": 36,
    "start_time": "2022-12-02T10:05:06.163Z"
   },
   {
    "duration": 33,
    "start_time": "2022-12-02T10:05:06.201Z"
   },
   {
    "duration": 16,
    "start_time": "2022-12-02T10:05:06.237Z"
   },
   {
    "duration": 48,
    "start_time": "2022-12-02T10:05:06.255Z"
   },
   {
    "duration": 19,
    "start_time": "2022-12-02T10:05:06.304Z"
   },
   {
    "duration": 41,
    "start_time": "2022-12-02T10:05:06.324Z"
   },
   {
    "duration": 14,
    "start_time": "2022-12-02T10:05:06.366Z"
   },
   {
    "duration": 14,
    "start_time": "2022-12-02T10:05:06.381Z"
   },
   {
    "duration": 10,
    "start_time": "2022-12-02T10:05:06.397Z"
   },
   {
    "duration": 6,
    "start_time": "2022-12-02T10:05:06.408Z"
   },
   {
    "duration": 13,
    "start_time": "2022-12-02T10:05:06.415Z"
   },
   {
    "duration": 8,
    "start_time": "2022-12-02T10:05:06.432Z"
   },
   {
    "duration": 9,
    "start_time": "2022-12-02T10:05:06.442Z"
   },
   {
    "duration": 13,
    "start_time": "2022-12-02T10:05:06.452Z"
   },
   {
    "duration": 7,
    "start_time": "2022-12-02T10:05:06.466Z"
   },
   {
    "duration": 1274,
    "start_time": "2022-12-02T10:05:06.475Z"
   },
   {
    "duration": 0,
    "start_time": "2022-12-02T10:05:07.751Z"
   },
   {
    "duration": 0,
    "start_time": "2022-12-02T10:05:07.753Z"
   },
   {
    "duration": 0,
    "start_time": "2022-12-02T10:05:07.754Z"
   },
   {
    "duration": 0,
    "start_time": "2022-12-02T10:05:07.757Z"
   },
   {
    "duration": 0,
    "start_time": "2022-12-02T10:05:07.758Z"
   },
   {
    "duration": 0,
    "start_time": "2022-12-02T10:05:07.759Z"
   },
   {
    "duration": 0,
    "start_time": "2022-12-02T10:05:07.761Z"
   },
   {
    "duration": 0,
    "start_time": "2022-12-02T10:05:07.762Z"
   },
   {
    "duration": 0,
    "start_time": "2022-12-02T10:05:07.763Z"
   },
   {
    "duration": 0,
    "start_time": "2022-12-02T10:05:07.765Z"
   },
   {
    "duration": 0,
    "start_time": "2022-12-02T10:05:07.766Z"
   },
   {
    "duration": 0,
    "start_time": "2022-12-02T10:05:07.767Z"
   },
   {
    "duration": 0,
    "start_time": "2022-12-02T10:05:07.769Z"
   },
   {
    "duration": 1,
    "start_time": "2022-12-02T10:05:07.770Z"
   },
   {
    "duration": 0,
    "start_time": "2022-12-02T10:05:07.772Z"
   },
   {
    "duration": 0,
    "start_time": "2022-12-02T10:05:07.773Z"
   },
   {
    "duration": 0,
    "start_time": "2022-12-02T10:05:07.774Z"
   },
   {
    "duration": 0,
    "start_time": "2022-12-02T10:05:07.776Z"
   },
   {
    "duration": 0,
    "start_time": "2022-12-02T10:05:07.777Z"
   },
   {
    "duration": 0,
    "start_time": "2022-12-02T10:05:07.778Z"
   },
   {
    "duration": 0,
    "start_time": "2022-12-02T10:05:07.780Z"
   },
   {
    "duration": 0,
    "start_time": "2022-12-02T10:05:07.781Z"
   },
   {
    "duration": 0,
    "start_time": "2022-12-02T10:05:07.782Z"
   },
   {
    "duration": 0,
    "start_time": "2022-12-02T10:05:07.784Z"
   },
   {
    "duration": 0,
    "start_time": "2022-12-02T10:05:07.785Z"
   },
   {
    "duration": 0,
    "start_time": "2022-12-02T10:05:07.787Z"
   },
   {
    "duration": 0,
    "start_time": "2022-12-02T10:05:07.788Z"
   },
   {
    "duration": 0,
    "start_time": "2022-12-02T10:05:07.789Z"
   },
   {
    "duration": 0,
    "start_time": "2022-12-02T10:05:07.813Z"
   },
   {
    "duration": 0,
    "start_time": "2022-12-02T10:05:07.814Z"
   },
   {
    "duration": 0,
    "start_time": "2022-12-02T10:05:07.815Z"
   },
   {
    "duration": 9,
    "start_time": "2022-12-02T10:09:56.858Z"
   },
   {
    "duration": 5,
    "start_time": "2022-12-02T10:18:28.148Z"
   },
   {
    "duration": 1243,
    "start_time": "2022-12-02T10:41:08.766Z"
   },
   {
    "duration": 3,
    "start_time": "2022-12-02T10:41:10.011Z"
   },
   {
    "duration": 36,
    "start_time": "2022-12-02T10:41:10.016Z"
   },
   {
    "duration": 28,
    "start_time": "2022-12-02T10:41:10.054Z"
   },
   {
    "duration": 11,
    "start_time": "2022-12-02T10:41:10.084Z"
   },
   {
    "duration": 24,
    "start_time": "2022-12-02T10:41:10.096Z"
   },
   {
    "duration": 24,
    "start_time": "2022-12-02T10:41:10.122Z"
   },
   {
    "duration": 33,
    "start_time": "2022-12-02T10:41:10.148Z"
   },
   {
    "duration": 23,
    "start_time": "2022-12-02T10:41:10.183Z"
   },
   {
    "duration": 22,
    "start_time": "2022-12-02T10:41:10.208Z"
   },
   {
    "duration": 21,
    "start_time": "2022-12-02T10:41:10.232Z"
   },
   {
    "duration": 11,
    "start_time": "2022-12-02T10:41:10.255Z"
   },
   {
    "duration": 27,
    "start_time": "2022-12-02T10:41:10.268Z"
   },
   {
    "duration": 19,
    "start_time": "2022-12-02T10:41:10.300Z"
   },
   {
    "duration": 32,
    "start_time": "2022-12-02T10:41:10.320Z"
   },
   {
    "duration": 24,
    "start_time": "2022-12-02T10:41:10.354Z"
   },
   {
    "duration": 24,
    "start_time": "2022-12-02T10:41:10.380Z"
   },
   {
    "duration": 17,
    "start_time": "2022-12-02T10:41:10.408Z"
   },
   {
    "duration": 17,
    "start_time": "2022-12-02T10:41:10.428Z"
   },
   {
    "duration": 24,
    "start_time": "2022-12-02T10:41:10.448Z"
   },
   {
    "duration": 34,
    "start_time": "2022-12-02T10:41:10.474Z"
   },
   {
    "duration": 15,
    "start_time": "2022-12-02T10:41:10.510Z"
   },
   {
    "duration": 19,
    "start_time": "2022-12-02T10:41:10.527Z"
   },
   {
    "duration": 17,
    "start_time": "2022-12-02T10:41:10.548Z"
   },
   {
    "duration": 18,
    "start_time": "2022-12-02T10:41:10.567Z"
   },
   {
    "duration": 308,
    "start_time": "2022-12-02T10:41:10.586Z"
   },
   {
    "duration": 6,
    "start_time": "2022-12-02T10:41:10.895Z"
   },
   {
    "duration": 301,
    "start_time": "2022-12-02T10:41:10.904Z"
   },
   {
    "duration": 11,
    "start_time": "2022-12-02T10:41:11.206Z"
   },
   {
    "duration": 41,
    "start_time": "2022-12-02T10:41:11.219Z"
   },
   {
    "duration": 211,
    "start_time": "2022-12-02T10:41:11.261Z"
   },
   {
    "duration": 317,
    "start_time": "2022-12-02T10:41:11.474Z"
   },
   {
    "duration": 256,
    "start_time": "2022-12-02T10:41:11.793Z"
   },
   {
    "duration": 303,
    "start_time": "2022-12-02T10:41:12.051Z"
   },
   {
    "duration": 13,
    "start_time": "2022-12-02T10:41:12.356Z"
   },
   {
    "duration": 211,
    "start_time": "2022-12-02T10:41:12.371Z"
   },
   {
    "duration": 146,
    "start_time": "2022-12-02T10:41:12.584Z"
   },
   {
    "duration": 5,
    "start_time": "2022-12-02T10:41:12.732Z"
   },
   {
    "duration": 198,
    "start_time": "2022-12-02T10:41:12.738Z"
   },
   {
    "duration": 5,
    "start_time": "2022-12-02T10:41:12.938Z"
   },
   {
    "duration": 34,
    "start_time": "2022-12-02T10:41:12.944Z"
   },
   {
    "duration": 37,
    "start_time": "2022-12-02T10:41:12.980Z"
   },
   {
    "duration": 188,
    "start_time": "2022-12-02T10:41:13.018Z"
   },
   {
    "duration": 29,
    "start_time": "2022-12-02T10:41:13.208Z"
   },
   {
    "duration": 155,
    "start_time": "2022-12-02T10:41:13.238Z"
   },
   {
    "duration": 11,
    "start_time": "2022-12-02T10:41:13.394Z"
   },
   {
    "duration": 58,
    "start_time": "2022-12-02T10:41:13.413Z"
   },
   {
    "duration": 26,
    "start_time": "2022-12-02T10:41:13.473Z"
   },
   {
    "duration": 62,
    "start_time": "2022-12-02T10:41:13.501Z"
   },
   {
    "duration": 14,
    "start_time": "2022-12-02T10:41:13.565Z"
   },
   {
    "duration": 206,
    "start_time": "2022-12-02T10:43:39.356Z"
   },
   {
    "duration": 292,
    "start_time": "2022-12-02T12:28:41.569Z"
   },
   {
    "duration": 237,
    "start_time": "2022-12-02T12:30:34.206Z"
   },
   {
    "duration": 142,
    "start_time": "2022-12-02T12:32:03.545Z"
   },
   {
    "duration": 136,
    "start_time": "2022-12-02T12:35:38.314Z"
   },
   {
    "duration": 156,
    "start_time": "2022-12-02T12:37:45.899Z"
   },
   {
    "duration": 155,
    "start_time": "2022-12-02T12:38:04.861Z"
   },
   {
    "duration": 74,
    "start_time": "2022-12-02T12:45:00.329Z"
   },
   {
    "duration": 9,
    "start_time": "2022-12-02T12:56:48.158Z"
   },
   {
    "duration": 2,
    "start_time": "2022-12-02T12:57:43.505Z"
   },
   {
    "duration": 4,
    "start_time": "2022-12-02T12:59:04.137Z"
   },
   {
    "duration": 84,
    "start_time": "2022-12-02T13:00:42.844Z"
   },
   {
    "duration": 11,
    "start_time": "2022-12-02T13:02:28.343Z"
   },
   {
    "duration": 1080,
    "start_time": "2022-12-02T13:07:24.364Z"
   },
   {
    "duration": 189,
    "start_time": "2022-12-02T13:07:25.446Z"
   },
   {
    "duration": 2,
    "start_time": "2022-12-02T13:07:25.637Z"
   },
   {
    "duration": 14,
    "start_time": "2022-12-02T13:07:25.641Z"
   },
   {
    "duration": 12,
    "start_time": "2022-12-02T13:07:25.658Z"
   },
   {
    "duration": 4,
    "start_time": "2022-12-02T13:07:25.671Z"
   },
   {
    "duration": 14,
    "start_time": "2022-12-02T13:07:25.677Z"
   },
   {
    "duration": 11,
    "start_time": "2022-12-02T13:07:25.693Z"
   },
   {
    "duration": 18,
    "start_time": "2022-12-02T13:07:25.705Z"
   },
   {
    "duration": 14,
    "start_time": "2022-12-02T13:07:25.725Z"
   },
   {
    "duration": 12,
    "start_time": "2022-12-02T13:07:25.740Z"
   },
   {
    "duration": 12,
    "start_time": "2022-12-02T13:07:25.753Z"
   },
   {
    "duration": 5,
    "start_time": "2022-12-02T13:07:25.766Z"
   },
   {
    "duration": 17,
    "start_time": "2022-12-02T13:07:25.774Z"
   },
   {
    "duration": 4,
    "start_time": "2022-12-02T13:07:25.814Z"
   },
   {
    "duration": 9,
    "start_time": "2022-12-02T13:07:25.820Z"
   },
   {
    "duration": 10,
    "start_time": "2022-12-02T13:07:25.831Z"
   },
   {
    "duration": 8,
    "start_time": "2022-12-02T13:07:25.843Z"
   },
   {
    "duration": 11,
    "start_time": "2022-12-02T13:07:25.853Z"
   },
   {
    "duration": 5,
    "start_time": "2022-12-02T13:07:25.865Z"
   },
   {
    "duration": 41,
    "start_time": "2022-12-02T13:07:25.872Z"
   },
   {
    "duration": 2,
    "start_time": "2022-12-02T13:07:25.915Z"
   },
   {
    "duration": 8,
    "start_time": "2022-12-02T13:07:25.919Z"
   },
   {
    "duration": 11,
    "start_time": "2022-12-02T13:07:25.929Z"
   },
   {
    "duration": 13,
    "start_time": "2022-12-02T13:07:25.942Z"
   },
   {
    "duration": 12,
    "start_time": "2022-12-02T13:07:25.957Z"
   },
   {
    "duration": 9,
    "start_time": "2022-12-02T13:07:25.971Z"
   },
   {
    "duration": 43,
    "start_time": "2022-12-02T13:07:25.981Z"
   },
   {
    "duration": 20,
    "start_time": "2022-12-02T13:07:26.025Z"
   },
   {
    "duration": 22,
    "start_time": "2022-12-02T13:07:26.047Z"
   },
   {
    "duration": 322,
    "start_time": "2022-12-02T13:07:26.071Z"
   },
   {
    "duration": 6,
    "start_time": "2022-12-02T13:07:26.394Z"
   },
   {
    "duration": 299,
    "start_time": "2022-12-02T13:07:26.402Z"
   },
   {
    "duration": 21,
    "start_time": "2022-12-02T13:07:26.703Z"
   },
   {
    "duration": 19,
    "start_time": "2022-12-02T13:07:26.726Z"
   },
   {
    "duration": 238,
    "start_time": "2022-12-02T13:07:26.747Z"
   },
   {
    "duration": 317,
    "start_time": "2022-12-02T13:07:26.988Z"
   },
   {
    "duration": 227,
    "start_time": "2022-12-02T13:07:27.312Z"
   },
   {
    "duration": 289,
    "start_time": "2022-12-02T13:07:27.541Z"
   },
   {
    "duration": 9,
    "start_time": "2022-12-02T13:07:27.832Z"
   },
   {
    "duration": 130,
    "start_time": "2022-12-02T13:07:27.845Z"
   },
   {
    "duration": 160,
    "start_time": "2022-12-02T13:07:27.977Z"
   },
   {
    "duration": 4,
    "start_time": "2022-12-02T13:07:28.139Z"
   },
   {
    "duration": 168,
    "start_time": "2022-12-02T13:07:28.145Z"
   },
   {
    "duration": 4,
    "start_time": "2022-12-02T13:07:28.314Z"
   },
   {
    "duration": 11,
    "start_time": "2022-12-02T13:07:28.320Z"
   },
   {
    "duration": 12,
    "start_time": "2022-12-02T13:07:28.333Z"
   },
   {
    "duration": 287,
    "start_time": "2022-12-02T13:07:28.347Z"
   },
   {
    "duration": 27,
    "start_time": "2022-12-02T13:07:28.635Z"
   },
   {
    "duration": 153,
    "start_time": "2022-12-02T13:07:28.663Z"
   },
   {
    "duration": 10,
    "start_time": "2022-12-02T13:07:28.818Z"
   },
   {
    "duration": 10,
    "start_time": "2022-12-02T13:07:28.829Z"
   },
   {
    "duration": 8,
    "start_time": "2022-12-02T13:07:28.840Z"
   },
   {
    "duration": 23,
    "start_time": "2022-12-02T13:07:28.850Z"
   },
   {
    "duration": 43,
    "start_time": "2022-12-02T13:07:28.875Z"
   },
   {
    "duration": 232,
    "start_time": "2022-12-02T13:26:27.439Z"
   },
   {
    "duration": 1084,
    "start_time": "2022-12-02T13:31:55.164Z"
   },
   {
    "duration": 181,
    "start_time": "2022-12-02T13:31:56.249Z"
   },
   {
    "duration": 3,
    "start_time": "2022-12-02T13:31:56.431Z"
   },
   {
    "duration": 17,
    "start_time": "2022-12-02T13:31:56.436Z"
   },
   {
    "duration": 15,
    "start_time": "2022-12-02T13:31:56.454Z"
   },
   {
    "duration": 3,
    "start_time": "2022-12-02T13:31:56.471Z"
   },
   {
    "duration": 21,
    "start_time": "2022-12-02T13:31:56.475Z"
   },
   {
    "duration": 13,
    "start_time": "2022-12-02T13:31:56.497Z"
   },
   {
    "duration": 13,
    "start_time": "2022-12-02T13:31:56.512Z"
   },
   {
    "duration": 14,
    "start_time": "2022-12-02T13:31:56.527Z"
   },
   {
    "duration": 12,
    "start_time": "2022-12-02T13:31:56.542Z"
   },
   {
    "duration": 11,
    "start_time": "2022-12-02T13:31:56.556Z"
   },
   {
    "duration": 4,
    "start_time": "2022-12-02T13:31:56.569Z"
   },
   {
    "duration": 12,
    "start_time": "2022-12-02T13:31:56.575Z"
   },
   {
    "duration": 26,
    "start_time": "2022-12-02T13:31:56.589Z"
   },
   {
    "duration": 10,
    "start_time": "2022-12-02T13:31:56.617Z"
   },
   {
    "duration": 10,
    "start_time": "2022-12-02T13:31:56.628Z"
   },
   {
    "duration": 7,
    "start_time": "2022-12-02T13:31:56.640Z"
   },
   {
    "duration": 9,
    "start_time": "2022-12-02T13:31:56.649Z"
   },
   {
    "duration": 7,
    "start_time": "2022-12-02T13:31:56.659Z"
   },
   {
    "duration": 11,
    "start_time": "2022-12-02T13:31:56.667Z"
   },
   {
    "duration": 4,
    "start_time": "2022-12-02T13:31:56.680Z"
   },
   {
    "duration": 5,
    "start_time": "2022-12-02T13:31:56.714Z"
   },
   {
    "duration": 12,
    "start_time": "2022-12-02T13:31:56.720Z"
   },
   {
    "duration": 14,
    "start_time": "2022-12-02T13:31:56.734Z"
   },
   {
    "duration": 15,
    "start_time": "2022-12-02T13:31:56.749Z"
   },
   {
    "duration": 14,
    "start_time": "2022-12-02T13:31:56.766Z"
   },
   {
    "duration": 38,
    "start_time": "2022-12-02T13:31:56.783Z"
   },
   {
    "duration": 15,
    "start_time": "2022-12-02T13:31:56.823Z"
   },
   {
    "duration": 16,
    "start_time": "2022-12-02T13:31:56.840Z"
   },
   {
    "duration": 330,
    "start_time": "2022-12-02T13:31:56.857Z"
   },
   {
    "duration": 6,
    "start_time": "2022-12-02T13:31:57.189Z"
   },
   {
    "duration": 298,
    "start_time": "2022-12-02T13:31:57.197Z"
   },
   {
    "duration": 10,
    "start_time": "2022-12-02T13:31:57.497Z"
   },
   {
    "duration": 14,
    "start_time": "2022-12-02T13:31:57.513Z"
   },
   {
    "duration": 221,
    "start_time": "2022-12-02T13:31:57.529Z"
   },
   {
    "duration": 267,
    "start_time": "2022-12-02T13:31:57.751Z"
   },
   {
    "duration": 229,
    "start_time": "2022-12-02T13:31:58.020Z"
   },
   {
    "duration": 274,
    "start_time": "2022-12-02T13:31:58.250Z"
   },
   {
    "duration": 9,
    "start_time": "2022-12-02T13:31:58.526Z"
   },
   {
    "duration": 148,
    "start_time": "2022-12-02T13:31:58.537Z"
   },
   {
    "duration": 177,
    "start_time": "2022-12-02T13:31:58.687Z"
   },
   {
    "duration": 5,
    "start_time": "2022-12-02T13:31:58.866Z"
   },
   {
    "duration": 178,
    "start_time": "2022-12-02T13:31:58.874Z"
   },
   {
    "duration": 4,
    "start_time": "2022-12-02T13:31:59.054Z"
   },
   {
    "duration": 9,
    "start_time": "2022-12-02T13:31:59.060Z"
   },
   {
    "duration": 9,
    "start_time": "2022-12-02T13:31:59.070Z"
   },
   {
    "duration": 217,
    "start_time": "2022-12-02T13:31:59.081Z"
   },
   {
    "duration": 38,
    "start_time": "2022-12-02T13:31:59.299Z"
   },
   {
    "duration": 149,
    "start_time": "2022-12-02T13:31:59.338Z"
   },
   {
    "duration": 10,
    "start_time": "2022-12-02T13:31:59.489Z"
   },
   {
    "duration": 9,
    "start_time": "2022-12-02T13:31:59.513Z"
   },
   {
    "duration": 10,
    "start_time": "2022-12-02T13:31:59.524Z"
   },
   {
    "duration": 25,
    "start_time": "2022-12-02T13:31:59.536Z"
   },
   {
    "duration": 14,
    "start_time": "2022-12-02T13:31:59.563Z"
   },
   {
    "duration": 285,
    "start_time": "2022-12-02T14:02:43.430Z"
   },
   {
    "duration": 315,
    "start_time": "2022-12-02T14:03:18.585Z"
   },
   {
    "duration": 204,
    "start_time": "2022-12-02T14:04:41.881Z"
   },
   {
    "duration": 309,
    "start_time": "2022-12-02T14:07:15.985Z"
   },
   {
    "duration": 164,
    "start_time": "2022-12-02T14:08:32.472Z"
   },
   {
    "duration": 152,
    "start_time": "2022-12-02T14:09:08.103Z"
   },
   {
    "duration": 168,
    "start_time": "2022-12-02T14:09:12.687Z"
   },
   {
    "duration": 1075,
    "start_time": "2022-12-03T07:06:26.922Z"
   },
   {
    "duration": 307,
    "start_time": "2022-12-03T07:06:27.999Z"
   },
   {
    "duration": 3,
    "start_time": "2022-12-03T07:06:28.307Z"
   },
   {
    "duration": 20,
    "start_time": "2022-12-03T07:06:28.311Z"
   },
   {
    "duration": 12,
    "start_time": "2022-12-03T07:06:28.333Z"
   },
   {
    "duration": 3,
    "start_time": "2022-12-03T07:06:28.347Z"
   },
   {
    "duration": 11,
    "start_time": "2022-12-03T07:06:28.351Z"
   },
   {
    "duration": 16,
    "start_time": "2022-12-03T07:06:28.363Z"
   },
   {
    "duration": 20,
    "start_time": "2022-12-03T07:06:28.380Z"
   },
   {
    "duration": 19,
    "start_time": "2022-12-03T07:06:28.402Z"
   },
   {
    "duration": 28,
    "start_time": "2022-12-03T07:06:28.422Z"
   },
   {
    "duration": 23,
    "start_time": "2022-12-03T07:06:28.452Z"
   },
   {
    "duration": 9,
    "start_time": "2022-12-03T07:06:28.477Z"
   },
   {
    "duration": 17,
    "start_time": "2022-12-03T07:06:28.489Z"
   },
   {
    "duration": 10,
    "start_time": "2022-12-03T07:06:28.508Z"
   },
   {
    "duration": 13,
    "start_time": "2022-12-03T07:06:28.519Z"
   },
   {
    "duration": 13,
    "start_time": "2022-12-03T07:06:28.534Z"
   },
   {
    "duration": 9,
    "start_time": "2022-12-03T07:06:28.548Z"
   },
   {
    "duration": 13,
    "start_time": "2022-12-03T07:06:28.558Z"
   },
   {
    "duration": 5,
    "start_time": "2022-12-03T07:06:28.572Z"
   },
   {
    "duration": 9,
    "start_time": "2022-12-03T07:06:28.578Z"
   },
   {
    "duration": 9,
    "start_time": "2022-12-03T07:06:28.588Z"
   },
   {
    "duration": 20,
    "start_time": "2022-12-03T07:06:28.599Z"
   },
   {
    "duration": 11,
    "start_time": "2022-12-03T07:06:28.620Z"
   },
   {
    "duration": 24,
    "start_time": "2022-12-03T07:06:28.633Z"
   },
   {
    "duration": 16,
    "start_time": "2022-12-03T07:06:28.659Z"
   },
   {
    "duration": 11,
    "start_time": "2022-12-03T07:06:28.677Z"
   },
   {
    "duration": 11,
    "start_time": "2022-12-03T07:06:28.689Z"
   },
   {
    "duration": 12,
    "start_time": "2022-12-03T07:06:28.701Z"
   },
   {
    "duration": 15,
    "start_time": "2022-12-03T07:06:28.715Z"
   },
   {
    "duration": 291,
    "start_time": "2022-12-03T07:06:28.731Z"
   },
   {
    "duration": 7,
    "start_time": "2022-12-03T07:06:29.024Z"
   },
   {
    "duration": 287,
    "start_time": "2022-12-03T07:06:29.033Z"
   },
   {
    "duration": 9,
    "start_time": "2022-12-03T07:06:29.321Z"
   },
   {
    "duration": 16,
    "start_time": "2022-12-03T07:06:29.331Z"
   },
   {
    "duration": 224,
    "start_time": "2022-12-03T07:06:29.348Z"
   },
   {
    "duration": 332,
    "start_time": "2022-12-03T07:06:29.573Z"
   },
   {
    "duration": 241,
    "start_time": "2022-12-03T07:06:29.907Z"
   },
   {
    "duration": 270,
    "start_time": "2022-12-03T07:06:30.150Z"
   },
   {
    "duration": 8,
    "start_time": "2022-12-03T07:06:30.421Z"
   },
   {
    "duration": 126,
    "start_time": "2022-12-03T07:06:30.432Z"
   },
   {
    "duration": 155,
    "start_time": "2022-12-03T07:06:30.560Z"
   },
   {
    "duration": 4,
    "start_time": "2022-12-03T07:06:30.717Z"
   },
   {
    "duration": 154,
    "start_time": "2022-12-03T07:06:30.722Z"
   },
   {
    "duration": 4,
    "start_time": "2022-12-03T07:06:30.878Z"
   },
   {
    "duration": 20,
    "start_time": "2022-12-03T07:06:30.884Z"
   },
   {
    "duration": 31,
    "start_time": "2022-12-03T07:06:30.906Z"
   },
   {
    "duration": 246,
    "start_time": "2022-12-03T07:06:30.939Z"
   },
   {
    "duration": 25,
    "start_time": "2022-12-03T07:06:31.186Z"
   },
   {
    "duration": 147,
    "start_time": "2022-12-03T07:06:31.212Z"
   },
   {
    "duration": 9,
    "start_time": "2022-12-03T07:06:31.360Z"
   },
   {
    "duration": 7,
    "start_time": "2022-12-03T07:06:31.371Z"
   },
   {
    "duration": 6,
    "start_time": "2022-12-03T07:06:31.398Z"
   },
   {
    "duration": 25,
    "start_time": "2022-12-03T07:06:31.405Z"
   },
   {
    "duration": 13,
    "start_time": "2022-12-03T07:06:31.431Z"
   }
  ],
  "kernelspec": {
   "display_name": "Python 3 (ipykernel)",
   "language": "python",
   "name": "python3"
  },
  "language_info": {
   "codemirror_mode": {
    "name": "ipython",
    "version": 3
   },
   "file_extension": ".py",
   "mimetype": "text/x-python",
   "name": "python",
   "nbconvert_exporter": "python",
   "pygments_lexer": "ipython3",
   "version": "3.9.13"
  },
  "toc": {
   "base_numbering": 1,
   "nav_menu": {},
   "number_sections": true,
   "sideBar": true,
   "skip_h1_title": true,
   "title_cell": "Table of Contents",
   "title_sidebar": "Contents",
   "toc_cell": false,
   "toc_position": {
    "height": "calc(100% - 180px)",
    "left": "10px",
    "top": "150px",
    "width": "165px"
   },
   "toc_section_display": true,
   "toc_window_display": true
  }
 },
 "nbformat": 4,
 "nbformat_minor": 2
}
